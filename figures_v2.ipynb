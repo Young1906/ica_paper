{
 "cells": [
  {
   "cell_type": "code",
   "execution_count": 1,
   "metadata": {},
   "outputs": [],
   "source": [
    "from matplotlib import pyplot as plt\n",
    "import numpy as np\n",
    "from figure import _plot_eeg, plot_eeg, plot_sig_\n",
    "from eeg_v2 import EEG\n",
    "from utils import chunks, baseline_calc, butter_bandpass_filter\n",
    "import joblib\n",
    "from mne.preprocessing import ICA"
   ]
  },
  {
   "cell_type": "markdown",
   "metadata": {},
   "source": [
    "# Function and Lib"
   ]
  },
  {
   "cell_type": "code",
   "execution_count": 2,
   "metadata": {},
   "outputs": [],
   "source": [
    "def _get_ica_map(ica, components=None):\n",
    "    \"\"\"Get ICA topomap for components\"\"\"\n",
    "    fast_dot = np.dot\n",
    "    if components is None:\n",
    "        components = list(range(ica.n_components_))\n",
    "    maps = fast_dot(ica.mixing_matrix_[:, components].T,\n",
    "                    ica.pca_components_[:ica.n_components_])\n",
    "    return maps\n",
    "\n",
    "def get_chunks(sig):\n",
    "    i = 0\n",
    "    for task in sig.tasks:\n",
    "        for c in chunks(task, 15):\n",
    "            i+=1\n",
    "            yield i, c\n",
    "            \n",
    "def count_chunks(sig):\n",
    "    i = 0\n",
    "    for task in sig.tasks:\n",
    "        for c in chunks(task, 15):\n",
    "            i+=1\n",
    "    return i"
   ]
  },
  {
   "cell_type": "code",
   "execution_count": 3,
   "metadata": {},
   "outputs": [
    {
     "name": "stderr",
     "output_type": "stream",
     "text": [
      "/home/tudo/Desktop/code/ica_paper/eeg_v2.py:17: RuntimeWarning: Channel names are not unique, found duplicates for: {'EMG Chin'}. Applying running numbers for duplicates.\n",
      "  raw = read_raw_edf(self.path_edf, preload=True, verbose=0)\n"
     ]
    }
   ],
   "source": [
    "# Reading raw data\n",
    "path_edf=\"./edf/1578_alice/edf/A0001578.edf\"\n",
    "path_stage=\"./edf/1578_alice/csv/STAGE.csv\"\n",
    "\n",
    "eeg = EEG(path_edf=path_edf, path_stage=path_stage)"
   ]
  },
  {
   "cell_type": "code",
   "execution_count": 4,
   "metadata": {},
   "outputs": [
    {
     "data": {
      "text/plain": [
       "56"
      ]
     },
     "execution_count": 4,
     "metadata": {},
     "output_type": "execute_result"
    }
   ],
   "source": [
    "count_chunks(eeg)"
   ]
  },
  {
   "cell_type": "code",
   "execution_count": 5,
   "metadata": {},
   "outputs": [],
   "source": [
    "# # Pick a chunks\n",
    "\n",
    "# _chunks = get_chunks(eeg)\n",
    "# for i in range(16):\n",
    "#     _, chunk = next(_chunks)\n",
    "\n",
    "# print(_)\n",
    "# print(np.min(chunk),np.max(chunk))"
   ]
  },
  {
   "cell_type": "code",
   "execution_count": 6,
   "metadata": {},
   "outputs": [],
   "source": [
    "# Preprocessing pipeline\n",
    "def baseline_bandpass(chunk):\n",
    "    sample_raw = eeg.raw.copy().crop(np.min(chunk),np.max(chunk),include_tmax=False)\n",
    "    sample_raw_eog = eeg.eog_channels.copy().crop(np.min(chunk),np.max(chunk),include_tmax=False)\n",
    "\n",
    "\n",
    "    # Baseline\n",
    "    sample_raw_baseline = sample_raw.copy()\n",
    "    sample_raw_baseline = sample_raw_baseline.apply_function(baseline_calc)\n",
    "\n",
    "    # Bandpass\n",
    "    sample_raw_bandpass = sample_raw_baseline.copy()\n",
    "    sample_raw_bandpass = sample_raw_bandpass.apply_function(butter_bandpass_filter)\n",
    "    \n",
    "    return sample_raw, sample_raw_baseline, sample_raw_bandpass, sample_raw_eog"
   ]
  },
  {
   "cell_type": "code",
   "execution_count": 7,
   "metadata": {},
   "outputs": [],
   "source": [
    "# ICA pipeline\n",
    "def ica_pipe(sample_raw_bandpass):    \n",
    "    clf = joblib.load(\"./models/eog_classifier_v2.joblib\")\n",
    "\n",
    "\n",
    "    sample_raw_train = sample_raw_bandpass.copy()\n",
    "    sample_raw_corrected = sample_raw_bandpass.copy()\n",
    "\n",
    "    # Fitting ICA\n",
    "    ica = ICA(method=\"extended-infomax\", random_state=1)\n",
    "    ica.fit(sample_raw_corrected)\n",
    "\n",
    "    maps = _get_ica_map(ica).T\n",
    "    scalings = np.linalg.norm(maps, axis=0)\n",
    "    maps /= scalings[None, :]\n",
    "    X = maps.T\n",
    "\n",
    "    # Predict EOG\n",
    "    eog_preds = clf.predict(X)\n",
    "    list_of_eog = np.where(eog_preds == 1)[0]\n",
    "    \n",
    "    # ica.plot_sources(inst=sample_raw_train) \n",
    "    # ica.plot_components(inst=sample_raw_train)\n",
    "\n",
    "    ica.exclude = list_of_eog\n",
    "    ica.apply(sample_raw_corrected)\n",
    "    \n",
    "    return ica, sample_raw_train, sample_raw_corrected"
   ]
  },
  {
   "cell_type": "markdown",
   "metadata": {},
   "source": [
    "# FIGURE 2"
   ]
  },
  {
   "cell_type": "code",
   "execution_count": 8,
   "metadata": {},
   "outputs": [
    {
     "name": "stderr",
     "output_type": "stream",
     "text": [
      "findfont: Font family ['Times New Roman'] not found. Falling back to DejaVu Sans.\n"
     ]
    }
   ],
   "source": [
    "plt.rcParams[\"figure.figsize\"] = [10,5]\n",
    "PATH = \"figures/figure2\"\n",
    "i = 0\n",
    "for task in eeg.tasks:\n",
    "    for c in chunks(task, 15):\n",
    "        i+=1\n",
    "        # if i > 1:\n",
    "        #    break\n",
    "        \n",
    "        sample_raw, sample_raw_baseline, sample_raw_bandpass, sample_raw_eog = baseline_bandpass(c)\n",
    "        # ica, sample_raw_train, sample_raw_corrected = ica_pipe(sample_raw_bandpass)\n",
    "        \n",
    "\n",
    "        # Raw\n",
    "        plot_sig_(\n",
    "            sig= sample_raw.get_data() * 1e3,\n",
    "            eog= sample_raw_eog.get_data() * 1e3,\n",
    "            ch_names = sample_raw.ch_names,\n",
    "            eog_ch_names = sample_raw_eog.ch_names,\n",
    "            fs=500,\n",
    "            unit=\"10^-6 V\",\n",
    "            eog_unit = \"10^-6 V\",\n",
    "            dpi=100,\n",
    "            fname=f\"{PATH}/fig2_raw_{i}\"\n",
    "        );\n",
    "\n",
    "\n",
    "        # Baseline + Bandpass\n",
    "        plot_sig_(\n",
    "            sig= sample_raw_bandpass.get_data() * 1e3,\n",
    "            eog= sample_raw_eog.get_data() * 1e3,\n",
    "            ch_names = sample_raw.ch_names,\n",
    "            eog_ch_names = sample_raw_eog.ch_names,\n",
    "            fs=500,\n",
    "            unit=\"10^-6 V\",\n",
    "            eog_unit = \"10^-6 V\",\n",
    "            dpi=100,\n",
    "            fname=f\"{PATH}/fig2_bandpass_{i}\"\n",
    "        );"
   ]
  },
  {
   "cell_type": "markdown",
   "metadata": {},
   "source": [
    "# FIGURE 3"
   ]
  },
  {
   "cell_type": "code",
   "execution_count": 9,
   "metadata": {},
   "outputs": [
    {
     "name": "stdout",
     "output_type": "stream",
     "text": [
      "Fitting ICA to data using 10 channels (please be patient, this may take a while)\n",
      "Inferring max_pca_components from picks\n",
      "Using all PCA components: 10\n",
      "Computing Extended Infomax ICA\n"
     ]
    },
    {
     "name": "stderr",
     "output_type": "stream",
     "text": [
      "<ipython-input-7-9f71c3044bd4>:10: DeprecationWarning: method='extended-infomax' is deprecated and will be removed in 0.19. If you want to use Extended Infomax, specify method='infomax' together with fit_params=dict(extended=True).\n",
      "  ica = ICA(method=\"extended-infomax\", random_state=1)\n"
     ]
    },
    {
     "name": "stdout",
     "output_type": "stream",
     "text": [
      "Fitting ICA took 2.5s.\n",
      "Transforming to ICA space (10 components)\n",
      "Zeroing out 2 ICA components\n",
      "Fitting ICA to data using 10 channels (please be patient, this may take a while)\n",
      "Inferring max_pca_components from picks\n",
      "Using all PCA components: 10\n",
      "Computing Extended Infomax ICA\n"
     ]
    },
    {
     "name": "stderr",
     "output_type": "stream",
     "text": [
      "<ipython-input-7-9f71c3044bd4>:10: DeprecationWarning: method='extended-infomax' is deprecated and will be removed in 0.19. If you want to use Extended Infomax, specify method='infomax' together with fit_params=dict(extended=True).\n",
      "  ica = ICA(method=\"extended-infomax\", random_state=1)\n"
     ]
    },
    {
     "name": "stdout",
     "output_type": "stream",
     "text": [
      "Fitting ICA took 2.0s.\n",
      "Transforming to ICA space (10 components)\n",
      "Zeroing out 1 ICA components\n",
      "Fitting ICA to data using 10 channels (please be patient, this may take a while)\n",
      "Inferring max_pca_components from picks\n",
      "Using all PCA components: 10\n",
      "Computing Extended Infomax ICA\n"
     ]
    },
    {
     "name": "stderr",
     "output_type": "stream",
     "text": [
      "<ipython-input-7-9f71c3044bd4>:10: DeprecationWarning: method='extended-infomax' is deprecated and will be removed in 0.19. If you want to use Extended Infomax, specify method='infomax' together with fit_params=dict(extended=True).\n",
      "  ica = ICA(method=\"extended-infomax\", random_state=1)\n"
     ]
    },
    {
     "name": "stdout",
     "output_type": "stream",
     "text": [
      "Fitting ICA took 1.7s.\n",
      "Transforming to ICA space (10 components)\n",
      "Zeroing out 1 ICA components\n",
      "Fitting ICA to data using 10 channels (please be patient, this may take a while)\n",
      "Inferring max_pca_components from picks\n",
      "Using all PCA components: 10\n",
      "Computing Extended Infomax ICA\n"
     ]
    },
    {
     "name": "stderr",
     "output_type": "stream",
     "text": [
      "<ipython-input-7-9f71c3044bd4>:10: DeprecationWarning: method='extended-infomax' is deprecated and will be removed in 0.19. If you want to use Extended Infomax, specify method='infomax' together with fit_params=dict(extended=True).\n",
      "  ica = ICA(method=\"extended-infomax\", random_state=1)\n"
     ]
    },
    {
     "name": "stdout",
     "output_type": "stream",
     "text": [
      "Fitting ICA took 3.4s.\n",
      "Transforming to ICA space (10 components)\n",
      "Zeroing out 1 ICA components\n",
      "Fitting ICA to data using 10 channels (please be patient, this may take a while)\n",
      "Inferring max_pca_components from picks\n",
      "Using all PCA components: 10\n",
      "Computing Extended Infomax ICA\n"
     ]
    },
    {
     "name": "stderr",
     "output_type": "stream",
     "text": [
      "<ipython-input-7-9f71c3044bd4>:10: DeprecationWarning: method='extended-infomax' is deprecated and will be removed in 0.19. If you want to use Extended Infomax, specify method='infomax' together with fit_params=dict(extended=True).\n",
      "  ica = ICA(method=\"extended-infomax\", random_state=1)\n"
     ]
    },
    {
     "name": "stdout",
     "output_type": "stream",
     "text": [
      "Fitting ICA took 2.5s.\n",
      "Transforming to ICA space (10 components)\n",
      "Zeroing out 3 ICA components\n",
      "Fitting ICA to data using 10 channels (please be patient, this may take a while)\n",
      "Inferring max_pca_components from picks\n",
      "Using all PCA components: 10\n",
      "Computing Extended Infomax ICA\n"
     ]
    },
    {
     "name": "stderr",
     "output_type": "stream",
     "text": [
      "<ipython-input-7-9f71c3044bd4>:10: DeprecationWarning: method='extended-infomax' is deprecated and will be removed in 0.19. If you want to use Extended Infomax, specify method='infomax' together with fit_params=dict(extended=True).\n",
      "  ica = ICA(method=\"extended-infomax\", random_state=1)\n"
     ]
    },
    {
     "name": "stdout",
     "output_type": "stream",
     "text": [
      "Fitting ICA took 2.1s.\n",
      "Transforming to ICA space (10 components)\n",
      "Zeroing out 2 ICA components\n",
      "Fitting ICA to data using 10 channels (please be patient, this may take a while)\n",
      "Inferring max_pca_components from picks\n",
      "Using all PCA components: 10\n",
      "Computing Extended Infomax ICA\n"
     ]
    },
    {
     "name": "stderr",
     "output_type": "stream",
     "text": [
      "<ipython-input-7-9f71c3044bd4>:10: DeprecationWarning: method='extended-infomax' is deprecated and will be removed in 0.19. If you want to use Extended Infomax, specify method='infomax' together with fit_params=dict(extended=True).\n",
      "  ica = ICA(method=\"extended-infomax\", random_state=1)\n"
     ]
    },
    {
     "name": "stdout",
     "output_type": "stream",
     "text": [
      "Fitting ICA took 3.2s.\n",
      "Transforming to ICA space (10 components)\n",
      "Zeroing out 1 ICA components\n",
      "Fitting ICA to data using 10 channels (please be patient, this may take a while)\n",
      "Inferring max_pca_components from picks\n",
      "Using all PCA components: 10\n",
      "Computing Extended Infomax ICA\n"
     ]
    },
    {
     "name": "stderr",
     "output_type": "stream",
     "text": [
      "<ipython-input-7-9f71c3044bd4>:10: DeprecationWarning: method='extended-infomax' is deprecated and will be removed in 0.19. If you want to use Extended Infomax, specify method='infomax' together with fit_params=dict(extended=True).\n",
      "  ica = ICA(method=\"extended-infomax\", random_state=1)\n"
     ]
    },
    {
     "name": "stdout",
     "output_type": "stream",
     "text": [
      "Fitting ICA took 3.5s.\n",
      "Transforming to ICA space (10 components)\n",
      "Zeroing out 1 ICA components\n",
      "Fitting ICA to data using 10 channels (please be patient, this may take a while)\n",
      "Inferring max_pca_components from picks\n",
      "Using all PCA components: 10\n",
      "Computing Extended Infomax ICA\n"
     ]
    },
    {
     "name": "stderr",
     "output_type": "stream",
     "text": [
      "<ipython-input-7-9f71c3044bd4>:10: DeprecationWarning: method='extended-infomax' is deprecated and will be removed in 0.19. If you want to use Extended Infomax, specify method='infomax' together with fit_params=dict(extended=True).\n",
      "  ica = ICA(method=\"extended-infomax\", random_state=1)\n"
     ]
    },
    {
     "name": "stdout",
     "output_type": "stream",
     "text": [
      "Fitting ICA took 2.7s.\n",
      "Transforming to ICA space (10 components)\n",
      "Zeroing out 2 ICA components\n",
      "Fitting ICA to data using 10 channels (please be patient, this may take a while)\n",
      "Inferring max_pca_components from picks\n",
      "Using all PCA components: 10\n",
      "Computing Extended Infomax ICA\n"
     ]
    },
    {
     "name": "stderr",
     "output_type": "stream",
     "text": [
      "<ipython-input-7-9f71c3044bd4>:10: DeprecationWarning: method='extended-infomax' is deprecated and will be removed in 0.19. If you want to use Extended Infomax, specify method='infomax' together with fit_params=dict(extended=True).\n",
      "  ica = ICA(method=\"extended-infomax\", random_state=1)\n"
     ]
    },
    {
     "name": "stdout",
     "output_type": "stream",
     "text": [
      "Fitting ICA took 2.7s.\n",
      "Transforming to ICA space (10 components)\n",
      "Zeroing out 2 ICA components\n",
      "Fitting ICA to data using 10 channels (please be patient, this may take a while)\n",
      "Inferring max_pca_components from picks\n",
      "Using all PCA components: 10\n",
      "Computing Extended Infomax ICA\n"
     ]
    },
    {
     "name": "stderr",
     "output_type": "stream",
     "text": [
      "<ipython-input-7-9f71c3044bd4>:10: DeprecationWarning: method='extended-infomax' is deprecated and will be removed in 0.19. If you want to use Extended Infomax, specify method='infomax' together with fit_params=dict(extended=True).\n",
      "  ica = ICA(method=\"extended-infomax\", random_state=1)\n"
     ]
    },
    {
     "name": "stdout",
     "output_type": "stream",
     "text": [
      "Fitting ICA took 1.8s.\n",
      "Transforming to ICA space (10 components)\n",
      "Zeroing out 1 ICA components\n",
      "Fitting ICA to data using 10 channels (please be patient, this may take a while)\n",
      "Inferring max_pca_components from picks\n",
      "Using all PCA components: 10\n",
      "Computing Extended Infomax ICA\n"
     ]
    },
    {
     "name": "stderr",
     "output_type": "stream",
     "text": [
      "<ipython-input-7-9f71c3044bd4>:10: DeprecationWarning: method='extended-infomax' is deprecated and will be removed in 0.19. If you want to use Extended Infomax, specify method='infomax' together with fit_params=dict(extended=True).\n",
      "  ica = ICA(method=\"extended-infomax\", random_state=1)\n"
     ]
    },
    {
     "name": "stdout",
     "output_type": "stream",
     "text": [
      "Fitting ICA took 3.7s.\n",
      "Transforming to ICA space (10 components)\n",
      "Zeroing out 1 ICA components\n",
      "Fitting ICA to data using 10 channels (please be patient, this may take a while)\n",
      "Inferring max_pca_components from picks\n",
      "Using all PCA components: 10\n",
      "Computing Extended Infomax ICA\n"
     ]
    },
    {
     "name": "stderr",
     "output_type": "stream",
     "text": [
      "<ipython-input-7-9f71c3044bd4>:10: DeprecationWarning: method='extended-infomax' is deprecated and will be removed in 0.19. If you want to use Extended Infomax, specify method='infomax' together with fit_params=dict(extended=True).\n",
      "  ica = ICA(method=\"extended-infomax\", random_state=1)\n"
     ]
    },
    {
     "name": "stdout",
     "output_type": "stream",
     "text": [
      "Fitting ICA took 4.4s.\n",
      "Transforming to ICA space (10 components)\n",
      "Zeroing out 0 ICA components\n",
      "Fitting ICA to data using 10 channels (please be patient, this may take a while)\n",
      "Inferring max_pca_components from picks\n",
      "Using all PCA components: 10\n",
      "Computing Extended Infomax ICA\n"
     ]
    },
    {
     "name": "stderr",
     "output_type": "stream",
     "text": [
      "<ipython-input-7-9f71c3044bd4>:10: DeprecationWarning: method='extended-infomax' is deprecated and will be removed in 0.19. If you want to use Extended Infomax, specify method='infomax' together with fit_params=dict(extended=True).\n",
      "  ica = ICA(method=\"extended-infomax\", random_state=1)\n"
     ]
    },
    {
     "name": "stdout",
     "output_type": "stream",
     "text": [
      "Fitting ICA took 1.9s.\n",
      "Transforming to ICA space (10 components)\n",
      "Zeroing out 1 ICA components\n",
      "Fitting ICA to data using 10 channels (please be patient, this may take a while)\n",
      "Inferring max_pca_components from picks\n",
      "Using all PCA components: 10\n",
      "Computing Extended Infomax ICA\n"
     ]
    },
    {
     "name": "stderr",
     "output_type": "stream",
     "text": [
      "<ipython-input-7-9f71c3044bd4>:10: DeprecationWarning: method='extended-infomax' is deprecated and will be removed in 0.19. If you want to use Extended Infomax, specify method='infomax' together with fit_params=dict(extended=True).\n",
      "  ica = ICA(method=\"extended-infomax\", random_state=1)\n"
     ]
    },
    {
     "name": "stdout",
     "output_type": "stream",
     "text": [
      "Fitting ICA took 2.7s.\n",
      "Transforming to ICA space (10 components)\n",
      "Zeroing out 2 ICA components\n",
      "Fitting ICA to data using 10 channels (please be patient, this may take a while)\n",
      "Inferring max_pca_components from picks\n",
      "Using all PCA components: 10\n",
      "Computing Extended Infomax ICA\n"
     ]
    },
    {
     "name": "stderr",
     "output_type": "stream",
     "text": [
      "<ipython-input-7-9f71c3044bd4>:10: DeprecationWarning: method='extended-infomax' is deprecated and will be removed in 0.19. If you want to use Extended Infomax, specify method='infomax' together with fit_params=dict(extended=True).\n",
      "  ica = ICA(method=\"extended-infomax\", random_state=1)\n"
     ]
    },
    {
     "name": "stdout",
     "output_type": "stream",
     "text": [
      "Fitting ICA took 2.0s.\n",
      "Transforming to ICA space (10 components)\n",
      "Zeroing out 2 ICA components\n",
      "Fitting ICA to data using 10 channels (please be patient, this may take a while)\n",
      "Inferring max_pca_components from picks\n",
      "Using all PCA components: 10\n",
      "Computing Extended Infomax ICA\n"
     ]
    },
    {
     "name": "stderr",
     "output_type": "stream",
     "text": [
      "<ipython-input-7-9f71c3044bd4>:10: DeprecationWarning: method='extended-infomax' is deprecated and will be removed in 0.19. If you want to use Extended Infomax, specify method='infomax' together with fit_params=dict(extended=True).\n",
      "  ica = ICA(method=\"extended-infomax\", random_state=1)\n"
     ]
    },
    {
     "name": "stdout",
     "output_type": "stream",
     "text": [
      "Fitting ICA took 1.9s.\n",
      "Transforming to ICA space (10 components)\n",
      "Zeroing out 1 ICA components\n",
      "Fitting ICA to data using 10 channels (please be patient, this may take a while)\n",
      "Inferring max_pca_components from picks\n",
      "Using all PCA components: 10\n",
      "Computing Extended Infomax ICA\n"
     ]
    },
    {
     "name": "stderr",
     "output_type": "stream",
     "text": [
      "<ipython-input-7-9f71c3044bd4>:10: DeprecationWarning: method='extended-infomax' is deprecated and will be removed in 0.19. If you want to use Extended Infomax, specify method='infomax' together with fit_params=dict(extended=True).\n",
      "  ica = ICA(method=\"extended-infomax\", random_state=1)\n"
     ]
    },
    {
     "name": "stdout",
     "output_type": "stream",
     "text": [
      "Fitting ICA took 1.8s.\n",
      "Transforming to ICA space (10 components)\n",
      "Zeroing out 1 ICA components\n",
      "Fitting ICA to data using 10 channels (please be patient, this may take a while)\n",
      "Inferring max_pca_components from picks\n",
      "Using all PCA components: 10\n",
      "Computing Extended Infomax ICA\n"
     ]
    },
    {
     "name": "stderr",
     "output_type": "stream",
     "text": [
      "<ipython-input-7-9f71c3044bd4>:10: DeprecationWarning: method='extended-infomax' is deprecated and will be removed in 0.19. If you want to use Extended Infomax, specify method='infomax' together with fit_params=dict(extended=True).\n",
      "  ica = ICA(method=\"extended-infomax\", random_state=1)\n"
     ]
    },
    {
     "name": "stdout",
     "output_type": "stream",
     "text": [
      "Fitting ICA took 1.8s.\n",
      "Transforming to ICA space (10 components)\n",
      "Zeroing out 0 ICA components\n",
      "Fitting ICA to data using 10 channels (please be patient, this may take a while)\n",
      "Inferring max_pca_components from picks\n",
      "Using all PCA components: 10\n",
      "Computing Extended Infomax ICA\n"
     ]
    },
    {
     "name": "stderr",
     "output_type": "stream",
     "text": [
      "<ipython-input-7-9f71c3044bd4>:10: DeprecationWarning: method='extended-infomax' is deprecated and will be removed in 0.19. If you want to use Extended Infomax, specify method='infomax' together with fit_params=dict(extended=True).\n",
      "  ica = ICA(method=\"extended-infomax\", random_state=1)\n"
     ]
    },
    {
     "name": "stdout",
     "output_type": "stream",
     "text": [
      "Fitting ICA took 2.1s.\n",
      "Transforming to ICA space (10 components)\n",
      "Zeroing out 0 ICA components\n",
      "Fitting ICA to data using 10 channels (please be patient, this may take a while)\n",
      "Inferring max_pca_components from picks\n",
      "Using all PCA components: 10\n",
      "Computing Extended Infomax ICA\n"
     ]
    },
    {
     "name": "stderr",
     "output_type": "stream",
     "text": [
      "<ipython-input-7-9f71c3044bd4>:10: DeprecationWarning: method='extended-infomax' is deprecated and will be removed in 0.19. If you want to use Extended Infomax, specify method='infomax' together with fit_params=dict(extended=True).\n",
      "  ica = ICA(method=\"extended-infomax\", random_state=1)\n"
     ]
    },
    {
     "name": "stdout",
     "output_type": "stream",
     "text": [
      "Fitting ICA took 1.8s.\n",
      "Transforming to ICA space (10 components)\n",
      "Zeroing out 0 ICA components\n",
      "Fitting ICA to data using 10 channels (please be patient, this may take a while)\n",
      "Inferring max_pca_components from picks\n",
      "Using all PCA components: 10\n",
      "Computing Extended Infomax ICA\n"
     ]
    },
    {
     "name": "stderr",
     "output_type": "stream",
     "text": [
      "<ipython-input-7-9f71c3044bd4>:10: DeprecationWarning: method='extended-infomax' is deprecated and will be removed in 0.19. If you want to use Extended Infomax, specify method='infomax' together with fit_params=dict(extended=True).\n",
      "  ica = ICA(method=\"extended-infomax\", random_state=1)\n"
     ]
    },
    {
     "name": "stdout",
     "output_type": "stream",
     "text": [
      "Fitting ICA took 2.4s.\n",
      "Transforming to ICA space (10 components)\n",
      "Zeroing out 0 ICA components\n",
      "Fitting ICA to data using 10 channels (please be patient, this may take a while)\n",
      "Inferring max_pca_components from picks\n",
      "Using all PCA components: 10\n",
      "Computing Extended Infomax ICA\n"
     ]
    },
    {
     "name": "stderr",
     "output_type": "stream",
     "text": [
      "<ipython-input-7-9f71c3044bd4>:10: DeprecationWarning: method='extended-infomax' is deprecated and will be removed in 0.19. If you want to use Extended Infomax, specify method='infomax' together with fit_params=dict(extended=True).\n",
      "  ica = ICA(method=\"extended-infomax\", random_state=1)\n"
     ]
    },
    {
     "name": "stdout",
     "output_type": "stream",
     "text": [
      "Fitting ICA took 1.9s.\n",
      "Transforming to ICA space (10 components)\n",
      "Zeroing out 1 ICA components\n",
      "Fitting ICA to data using 10 channels (please be patient, this may take a while)\n",
      "Inferring max_pca_components from picks\n",
      "Using all PCA components: 10\n",
      "Computing Extended Infomax ICA\n"
     ]
    },
    {
     "name": "stderr",
     "output_type": "stream",
     "text": [
      "<ipython-input-7-9f71c3044bd4>:10: DeprecationWarning: method='extended-infomax' is deprecated and will be removed in 0.19. If you want to use Extended Infomax, specify method='infomax' together with fit_params=dict(extended=True).\n",
      "  ica = ICA(method=\"extended-infomax\", random_state=1)\n"
     ]
    },
    {
     "name": "stdout",
     "output_type": "stream",
     "text": [
      "Fitting ICA took 2.1s.\n",
      "Transforming to ICA space (10 components)\n",
      "Zeroing out 2 ICA components\n",
      "Fitting ICA to data using 10 channels (please be patient, this may take a while)\n",
      "Inferring max_pca_components from picks\n",
      "Using all PCA components: 10\n",
      "Computing Extended Infomax ICA\n"
     ]
    },
    {
     "name": "stderr",
     "output_type": "stream",
     "text": [
      "<ipython-input-7-9f71c3044bd4>:10: DeprecationWarning: method='extended-infomax' is deprecated and will be removed in 0.19. If you want to use Extended Infomax, specify method='infomax' together with fit_params=dict(extended=True).\n",
      "  ica = ICA(method=\"extended-infomax\", random_state=1)\n"
     ]
    },
    {
     "name": "stdout",
     "output_type": "stream",
     "text": [
      "Fitting ICA took 2.0s.\n",
      "Transforming to ICA space (10 components)\n",
      "Zeroing out 1 ICA components\n",
      "Fitting ICA to data using 10 channels (please be patient, this may take a while)\n",
      "Inferring max_pca_components from picks\n",
      "Using all PCA components: 10\n",
      "Computing Extended Infomax ICA\n"
     ]
    },
    {
     "name": "stderr",
     "output_type": "stream",
     "text": [
      "<ipython-input-7-9f71c3044bd4>:10: DeprecationWarning: method='extended-infomax' is deprecated and will be removed in 0.19. If you want to use Extended Infomax, specify method='infomax' together with fit_params=dict(extended=True).\n",
      "  ica = ICA(method=\"extended-infomax\", random_state=1)\n"
     ]
    },
    {
     "name": "stdout",
     "output_type": "stream",
     "text": [
      "Fitting ICA took 2.3s.\n",
      "Transforming to ICA space (10 components)\n",
      "Zeroing out 1 ICA components\n",
      "Fitting ICA to data using 10 channels (please be patient, this may take a while)\n",
      "Inferring max_pca_components from picks\n",
      "Using all PCA components: 10\n",
      "Computing Extended Infomax ICA\n"
     ]
    },
    {
     "name": "stderr",
     "output_type": "stream",
     "text": [
      "<ipython-input-7-9f71c3044bd4>:10: DeprecationWarning: method='extended-infomax' is deprecated and will be removed in 0.19. If you want to use Extended Infomax, specify method='infomax' together with fit_params=dict(extended=True).\n",
      "  ica = ICA(method=\"extended-infomax\", random_state=1)\n"
     ]
    },
    {
     "name": "stdout",
     "output_type": "stream",
     "text": [
      "Fitting ICA took 1.7s.\n",
      "Transforming to ICA space (10 components)\n",
      "Zeroing out 1 ICA components\n",
      "Fitting ICA to data using 10 channels (please be patient, this may take a while)\n",
      "Inferring max_pca_components from picks\n",
      "Using all PCA components: 10\n",
      "Computing Extended Infomax ICA\n"
     ]
    },
    {
     "name": "stderr",
     "output_type": "stream",
     "text": [
      "<ipython-input-7-9f71c3044bd4>:10: DeprecationWarning: method='extended-infomax' is deprecated and will be removed in 0.19. If you want to use Extended Infomax, specify method='infomax' together with fit_params=dict(extended=True).\n",
      "  ica = ICA(method=\"extended-infomax\", random_state=1)\n"
     ]
    },
    {
     "name": "stdout",
     "output_type": "stream",
     "text": [
      "Fitting ICA took 2.1s.\n",
      "Transforming to ICA space (10 components)\n",
      "Zeroing out 1 ICA components\n",
      "Fitting ICA to data using 10 channels (please be patient, this may take a while)\n",
      "Inferring max_pca_components from picks\n",
      "Using all PCA components: 10\n",
      "Computing Extended Infomax ICA\n"
     ]
    },
    {
     "name": "stderr",
     "output_type": "stream",
     "text": [
      "<ipython-input-7-9f71c3044bd4>:10: DeprecationWarning: method='extended-infomax' is deprecated and will be removed in 0.19. If you want to use Extended Infomax, specify method='infomax' together with fit_params=dict(extended=True).\n",
      "  ica = ICA(method=\"extended-infomax\", random_state=1)\n"
     ]
    },
    {
     "name": "stdout",
     "output_type": "stream",
     "text": [
      "Fitting ICA took 2.1s.\n",
      "Transforming to ICA space (10 components)\n",
      "Zeroing out 2 ICA components\n",
      "Fitting ICA to data using 10 channels (please be patient, this may take a while)\n",
      "Inferring max_pca_components from picks\n",
      "Using all PCA components: 10\n",
      "Computing Extended Infomax ICA\n"
     ]
    },
    {
     "name": "stderr",
     "output_type": "stream",
     "text": [
      "<ipython-input-7-9f71c3044bd4>:10: DeprecationWarning: method='extended-infomax' is deprecated and will be removed in 0.19. If you want to use Extended Infomax, specify method='infomax' together with fit_params=dict(extended=True).\n",
      "  ica = ICA(method=\"extended-infomax\", random_state=1)\n"
     ]
    },
    {
     "name": "stdout",
     "output_type": "stream",
     "text": [
      "Fitting ICA took 1.8s.\n",
      "Transforming to ICA space (10 components)\n",
      "Zeroing out 1 ICA components\n",
      "Fitting ICA to data using 10 channels (please be patient, this may take a while)\n",
      "Inferring max_pca_components from picks\n",
      "Using all PCA components: 10\n",
      "Computing Extended Infomax ICA\n"
     ]
    },
    {
     "name": "stderr",
     "output_type": "stream",
     "text": [
      "<ipython-input-7-9f71c3044bd4>:10: DeprecationWarning: method='extended-infomax' is deprecated and will be removed in 0.19. If you want to use Extended Infomax, specify method='infomax' together with fit_params=dict(extended=True).\n",
      "  ica = ICA(method=\"extended-infomax\", random_state=1)\n"
     ]
    },
    {
     "name": "stdout",
     "output_type": "stream",
     "text": [
      "Fitting ICA took 2.0s.\n",
      "Transforming to ICA space (10 components)\n",
      "Zeroing out 2 ICA components\n",
      "Fitting ICA to data using 10 channels (please be patient, this may take a while)\n",
      "Inferring max_pca_components from picks\n",
      "Using all PCA components: 10\n",
      "Computing Extended Infomax ICA\n"
     ]
    },
    {
     "name": "stderr",
     "output_type": "stream",
     "text": [
      "<ipython-input-7-9f71c3044bd4>:10: DeprecationWarning: method='extended-infomax' is deprecated and will be removed in 0.19. If you want to use Extended Infomax, specify method='infomax' together with fit_params=dict(extended=True).\n",
      "  ica = ICA(method=\"extended-infomax\", random_state=1)\n"
     ]
    },
    {
     "name": "stdout",
     "output_type": "stream",
     "text": [
      "Fitting ICA took 1.8s.\n",
      "Transforming to ICA space (10 components)\n",
      "Zeroing out 1 ICA components\n",
      "Fitting ICA to data using 10 channels (please be patient, this may take a while)\n",
      "Inferring max_pca_components from picks\n",
      "Using all PCA components: 10\n",
      "Computing Extended Infomax ICA\n"
     ]
    },
    {
     "name": "stderr",
     "output_type": "stream",
     "text": [
      "<ipython-input-7-9f71c3044bd4>:10: DeprecationWarning: method='extended-infomax' is deprecated and will be removed in 0.19. If you want to use Extended Infomax, specify method='infomax' together with fit_params=dict(extended=True).\n",
      "  ica = ICA(method=\"extended-infomax\", random_state=1)\n"
     ]
    },
    {
     "name": "stdout",
     "output_type": "stream",
     "text": [
      "Fitting ICA took 2.1s.\n",
      "Transforming to ICA space (10 components)\n",
      "Zeroing out 1 ICA components\n",
      "Fitting ICA to data using 10 channels (please be patient, this may take a while)\n",
      "Inferring max_pca_components from picks\n",
      "Using all PCA components: 10\n",
      "Computing Extended Infomax ICA\n"
     ]
    },
    {
     "name": "stderr",
     "output_type": "stream",
     "text": [
      "<ipython-input-7-9f71c3044bd4>:10: DeprecationWarning: method='extended-infomax' is deprecated and will be removed in 0.19. If you want to use Extended Infomax, specify method='infomax' together with fit_params=dict(extended=True).\n",
      "  ica = ICA(method=\"extended-infomax\", random_state=1)\n"
     ]
    },
    {
     "name": "stdout",
     "output_type": "stream",
     "text": [
      "Fitting ICA took 2.0s.\n",
      "Transforming to ICA space (10 components)\n",
      "Zeroing out 3 ICA components\n",
      "Fitting ICA to data using 10 channels (please be patient, this may take a while)\n",
      "Inferring max_pca_components from picks\n",
      "Using all PCA components: 10\n",
      "Computing Extended Infomax ICA\n"
     ]
    },
    {
     "name": "stderr",
     "output_type": "stream",
     "text": [
      "<ipython-input-7-9f71c3044bd4>:10: DeprecationWarning: method='extended-infomax' is deprecated and will be removed in 0.19. If you want to use Extended Infomax, specify method='infomax' together with fit_params=dict(extended=True).\n",
      "  ica = ICA(method=\"extended-infomax\", random_state=1)\n"
     ]
    },
    {
     "name": "stdout",
     "output_type": "stream",
     "text": [
      "Fitting ICA took 2.1s.\n",
      "Transforming to ICA space (10 components)\n",
      "Zeroing out 2 ICA components\n",
      "Fitting ICA to data using 10 channels (please be patient, this may take a while)\n",
      "Inferring max_pca_components from picks\n",
      "Using all PCA components: 10\n",
      "Computing Extended Infomax ICA\n"
     ]
    },
    {
     "name": "stderr",
     "output_type": "stream",
     "text": [
      "<ipython-input-7-9f71c3044bd4>:10: DeprecationWarning: method='extended-infomax' is deprecated and will be removed in 0.19. If you want to use Extended Infomax, specify method='infomax' together with fit_params=dict(extended=True).\n",
      "  ica = ICA(method=\"extended-infomax\", random_state=1)\n"
     ]
    },
    {
     "name": "stdout",
     "output_type": "stream",
     "text": [
      "Fitting ICA took 1.9s.\n",
      "Transforming to ICA space (10 components)\n",
      "Zeroing out 1 ICA components\n",
      "Fitting ICA to data using 10 channels (please be patient, this may take a while)\n",
      "Inferring max_pca_components from picks\n",
      "Using all PCA components: 10\n",
      "Computing Extended Infomax ICA\n"
     ]
    },
    {
     "name": "stderr",
     "output_type": "stream",
     "text": [
      "<ipython-input-7-9f71c3044bd4>:10: DeprecationWarning: method='extended-infomax' is deprecated and will be removed in 0.19. If you want to use Extended Infomax, specify method='infomax' together with fit_params=dict(extended=True).\n",
      "  ica = ICA(method=\"extended-infomax\", random_state=1)\n"
     ]
    },
    {
     "name": "stdout",
     "output_type": "stream",
     "text": [
      "Fitting ICA took 2.7s.\n",
      "Transforming to ICA space (10 components)\n",
      "Zeroing out 2 ICA components\n",
      "Fitting ICA to data using 10 channels (please be patient, this may take a while)\n",
      "Inferring max_pca_components from picks\n",
      "Using all PCA components: 10\n",
      "Computing Extended Infomax ICA\n"
     ]
    },
    {
     "name": "stderr",
     "output_type": "stream",
     "text": [
      "<ipython-input-7-9f71c3044bd4>:10: DeprecationWarning: method='extended-infomax' is deprecated and will be removed in 0.19. If you want to use Extended Infomax, specify method='infomax' together with fit_params=dict(extended=True).\n",
      "  ica = ICA(method=\"extended-infomax\", random_state=1)\n"
     ]
    },
    {
     "name": "stdout",
     "output_type": "stream",
     "text": [
      "Fitting ICA took 2.3s.\n",
      "Transforming to ICA space (10 components)\n",
      "Zeroing out 3 ICA components\n",
      "Fitting ICA to data using 10 channels (please be patient, this may take a while)\n",
      "Inferring max_pca_components from picks\n",
      "Using all PCA components: 10\n",
      "Computing Extended Infomax ICA\n"
     ]
    },
    {
     "name": "stderr",
     "output_type": "stream",
     "text": [
      "<ipython-input-7-9f71c3044bd4>:10: DeprecationWarning: method='extended-infomax' is deprecated and will be removed in 0.19. If you want to use Extended Infomax, specify method='infomax' together with fit_params=dict(extended=True).\n",
      "  ica = ICA(method=\"extended-infomax\", random_state=1)\n"
     ]
    },
    {
     "name": "stdout",
     "output_type": "stream",
     "text": [
      "Fitting ICA took 2.6s.\n",
      "Transforming to ICA space (10 components)\n",
      "Zeroing out 1 ICA components\n",
      "Fitting ICA to data using 10 channels (please be patient, this may take a while)\n",
      "Inferring max_pca_components from picks\n",
      "Using all PCA components: 10\n",
      "Computing Extended Infomax ICA\n"
     ]
    },
    {
     "name": "stderr",
     "output_type": "stream",
     "text": [
      "<ipython-input-7-9f71c3044bd4>:10: DeprecationWarning: method='extended-infomax' is deprecated and will be removed in 0.19. If you want to use Extended Infomax, specify method='infomax' together with fit_params=dict(extended=True).\n",
      "  ica = ICA(method=\"extended-infomax\", random_state=1)\n"
     ]
    },
    {
     "name": "stdout",
     "output_type": "stream",
     "text": [
      "Fitting ICA took 3.4s.\n",
      "Transforming to ICA space (10 components)\n",
      "Zeroing out 2 ICA components\n",
      "Fitting ICA to data using 10 channels (please be patient, this may take a while)\n",
      "Inferring max_pca_components from picks\n",
      "Using all PCA components: 10\n",
      "Computing Extended Infomax ICA\n"
     ]
    },
    {
     "name": "stderr",
     "output_type": "stream",
     "text": [
      "<ipython-input-7-9f71c3044bd4>:10: DeprecationWarning: method='extended-infomax' is deprecated and will be removed in 0.19. If you want to use Extended Infomax, specify method='infomax' together with fit_params=dict(extended=True).\n",
      "  ica = ICA(method=\"extended-infomax\", random_state=1)\n"
     ]
    },
    {
     "name": "stdout",
     "output_type": "stream",
     "text": [
      "Fitting ICA took 2.1s.\n",
      "Transforming to ICA space (10 components)\n",
      "Zeroing out 1 ICA components\n",
      "Fitting ICA to data using 10 channels (please be patient, this may take a while)\n",
      "Inferring max_pca_components from picks\n",
      "Using all PCA components: 10\n",
      "Computing Extended Infomax ICA\n"
     ]
    },
    {
     "name": "stderr",
     "output_type": "stream",
     "text": [
      "<ipython-input-7-9f71c3044bd4>:10: DeprecationWarning: method='extended-infomax' is deprecated and will be removed in 0.19. If you want to use Extended Infomax, specify method='infomax' together with fit_params=dict(extended=True).\n",
      "  ica = ICA(method=\"extended-infomax\", random_state=1)\n"
     ]
    },
    {
     "name": "stdout",
     "output_type": "stream",
     "text": [
      "Fitting ICA took 2.5s.\n",
      "Transforming to ICA space (10 components)\n",
      "Zeroing out 1 ICA components\n",
      "Fitting ICA to data using 10 channels (please be patient, this may take a while)\n",
      "Inferring max_pca_components from picks\n",
      "Using all PCA components: 10\n",
      "Computing Extended Infomax ICA\n"
     ]
    },
    {
     "name": "stderr",
     "output_type": "stream",
     "text": [
      "<ipython-input-7-9f71c3044bd4>:10: DeprecationWarning: method='extended-infomax' is deprecated and will be removed in 0.19. If you want to use Extended Infomax, specify method='infomax' together with fit_params=dict(extended=True).\n",
      "  ica = ICA(method=\"extended-infomax\", random_state=1)\n"
     ]
    },
    {
     "name": "stdout",
     "output_type": "stream",
     "text": [
      "Fitting ICA took 1.9s.\n",
      "Transforming to ICA space (10 components)\n",
      "Zeroing out 1 ICA components\n",
      "Fitting ICA to data using 10 channels (please be patient, this may take a while)\n",
      "Inferring max_pca_components from picks\n",
      "Using all PCA components: 10\n",
      "Computing Extended Infomax ICA\n"
     ]
    },
    {
     "name": "stderr",
     "output_type": "stream",
     "text": [
      "<ipython-input-7-9f71c3044bd4>:10: DeprecationWarning: method='extended-infomax' is deprecated and will be removed in 0.19. If you want to use Extended Infomax, specify method='infomax' together with fit_params=dict(extended=True).\n",
      "  ica = ICA(method=\"extended-infomax\", random_state=1)\n"
     ]
    },
    {
     "name": "stdout",
     "output_type": "stream",
     "text": [
      "Fitting ICA took 5.9s.\n",
      "Transforming to ICA space (10 components)\n",
      "Zeroing out 1 ICA components\n",
      "Fitting ICA to data using 10 channels (please be patient, this may take a while)\n",
      "Inferring max_pca_components from picks\n",
      "Using all PCA components: 10\n",
      "Computing Extended Infomax ICA\n"
     ]
    },
    {
     "name": "stderr",
     "output_type": "stream",
     "text": [
      "<ipython-input-7-9f71c3044bd4>:10: DeprecationWarning: method='extended-infomax' is deprecated and will be removed in 0.19. If you want to use Extended Infomax, specify method='infomax' together with fit_params=dict(extended=True).\n",
      "  ica = ICA(method=\"extended-infomax\", random_state=1)\n"
     ]
    },
    {
     "name": "stdout",
     "output_type": "stream",
     "text": [
      "Fitting ICA took 2.5s.\n",
      "Transforming to ICA space (10 components)\n",
      "Zeroing out 1 ICA components\n",
      "Fitting ICA to data using 10 channels (please be patient, this may take a while)\n",
      "Inferring max_pca_components from picks\n",
      "Using all PCA components: 10\n",
      "Computing Extended Infomax ICA\n"
     ]
    },
    {
     "name": "stderr",
     "output_type": "stream",
     "text": [
      "<ipython-input-7-9f71c3044bd4>:10: DeprecationWarning: method='extended-infomax' is deprecated and will be removed in 0.19. If you want to use Extended Infomax, specify method='infomax' together with fit_params=dict(extended=True).\n",
      "  ica = ICA(method=\"extended-infomax\", random_state=1)\n"
     ]
    },
    {
     "name": "stdout",
     "output_type": "stream",
     "text": [
      "Fitting ICA took 2.3s.\n",
      "Transforming to ICA space (10 components)\n",
      "Zeroing out 3 ICA components\n",
      "Fitting ICA to data using 10 channels (please be patient, this may take a while)\n",
      "Inferring max_pca_components from picks\n",
      "Using all PCA components: 10\n",
      "Computing Extended Infomax ICA\n"
     ]
    },
    {
     "name": "stderr",
     "output_type": "stream",
     "text": [
      "<ipython-input-7-9f71c3044bd4>:10: DeprecationWarning: method='extended-infomax' is deprecated and will be removed in 0.19. If you want to use Extended Infomax, specify method='infomax' together with fit_params=dict(extended=True).\n",
      "  ica = ICA(method=\"extended-infomax\", random_state=1)\n"
     ]
    },
    {
     "name": "stdout",
     "output_type": "stream",
     "text": [
      "Fitting ICA took 2.1s.\n",
      "Transforming to ICA space (10 components)\n",
      "Zeroing out 1 ICA components\n",
      "Fitting ICA to data using 10 channels (please be patient, this may take a while)\n",
      "Inferring max_pca_components from picks\n",
      "Using all PCA components: 10\n",
      "Computing Extended Infomax ICA\n"
     ]
    },
    {
     "name": "stderr",
     "output_type": "stream",
     "text": [
      "<ipython-input-7-9f71c3044bd4>:10: DeprecationWarning: method='extended-infomax' is deprecated and will be removed in 0.19. If you want to use Extended Infomax, specify method='infomax' together with fit_params=dict(extended=True).\n",
      "  ica = ICA(method=\"extended-infomax\", random_state=1)\n"
     ]
    },
    {
     "name": "stdout",
     "output_type": "stream",
     "text": [
      "Fitting ICA took 1.9s.\n",
      "Transforming to ICA space (10 components)\n",
      "Zeroing out 1 ICA components\n",
      "Fitting ICA to data using 10 channels (please be patient, this may take a while)\n",
      "Inferring max_pca_components from picks\n",
      "Using all PCA components: 10\n",
      "Computing Extended Infomax ICA\n"
     ]
    },
    {
     "name": "stderr",
     "output_type": "stream",
     "text": [
      "<ipython-input-7-9f71c3044bd4>:10: DeprecationWarning: method='extended-infomax' is deprecated and will be removed in 0.19. If you want to use Extended Infomax, specify method='infomax' together with fit_params=dict(extended=True).\n",
      "  ica = ICA(method=\"extended-infomax\", random_state=1)\n"
     ]
    },
    {
     "name": "stdout",
     "output_type": "stream",
     "text": [
      "Fitting ICA took 1.9s.\n",
      "Transforming to ICA space (10 components)\n",
      "Zeroing out 3 ICA components\n",
      "Fitting ICA to data using 10 channels (please be patient, this may take a while)\n",
      "Inferring max_pca_components from picks\n",
      "Using all PCA components: 10\n",
      "Computing Extended Infomax ICA\n"
     ]
    },
    {
     "name": "stderr",
     "output_type": "stream",
     "text": [
      "<ipython-input-7-9f71c3044bd4>:10: DeprecationWarning: method='extended-infomax' is deprecated and will be removed in 0.19. If you want to use Extended Infomax, specify method='infomax' together with fit_params=dict(extended=True).\n",
      "  ica = ICA(method=\"extended-infomax\", random_state=1)\n"
     ]
    },
    {
     "name": "stdout",
     "output_type": "stream",
     "text": [
      "Fitting ICA took 2.1s.\n",
      "Transforming to ICA space (10 components)\n",
      "Zeroing out 2 ICA components\n",
      "Fitting ICA to data using 10 channels (please be patient, this may take a while)\n",
      "Inferring max_pca_components from picks\n",
      "Using all PCA components: 10\n",
      "Computing Extended Infomax ICA\n"
     ]
    },
    {
     "name": "stderr",
     "output_type": "stream",
     "text": [
      "<ipython-input-7-9f71c3044bd4>:10: DeprecationWarning: method='extended-infomax' is deprecated and will be removed in 0.19. If you want to use Extended Infomax, specify method='infomax' together with fit_params=dict(extended=True).\n",
      "  ica = ICA(method=\"extended-infomax\", random_state=1)\n"
     ]
    },
    {
     "name": "stdout",
     "output_type": "stream",
     "text": [
      "Fitting ICA took 2.3s.\n",
      "Transforming to ICA space (10 components)\n",
      "Zeroing out 1 ICA components\n",
      "Fitting ICA to data using 10 channels (please be patient, this may take a while)\n",
      "Inferring max_pca_components from picks\n",
      "Using all PCA components: 10\n",
      "Computing Extended Infomax ICA\n"
     ]
    },
    {
     "name": "stderr",
     "output_type": "stream",
     "text": [
      "<ipython-input-7-9f71c3044bd4>:10: DeprecationWarning: method='extended-infomax' is deprecated and will be removed in 0.19. If you want to use Extended Infomax, specify method='infomax' together with fit_params=dict(extended=True).\n",
      "  ica = ICA(method=\"extended-infomax\", random_state=1)\n"
     ]
    },
    {
     "name": "stdout",
     "output_type": "stream",
     "text": [
      "Fitting ICA took 3.2s.\n",
      "Transforming to ICA space (10 components)\n",
      "Zeroing out 1 ICA components\n",
      "Fitting ICA to data using 10 channels (please be patient, this may take a while)\n",
      "Inferring max_pca_components from picks\n",
      "Using all PCA components: 10\n",
      "Computing Extended Infomax ICA\n"
     ]
    },
    {
     "name": "stderr",
     "output_type": "stream",
     "text": [
      "<ipython-input-7-9f71c3044bd4>:10: DeprecationWarning: method='extended-infomax' is deprecated and will be removed in 0.19. If you want to use Extended Infomax, specify method='infomax' together with fit_params=dict(extended=True).\n",
      "  ica = ICA(method=\"extended-infomax\", random_state=1)\n"
     ]
    },
    {
     "name": "stdout",
     "output_type": "stream",
     "text": [
      "Fitting ICA took 2.4s.\n",
      "Transforming to ICA space (10 components)\n",
      "Zeroing out 2 ICA components\n",
      "Fitting ICA to data using 10 channels (please be patient, this may take a while)\n",
      "Inferring max_pca_components from picks\n",
      "Using all PCA components: 10\n",
      "Computing Extended Infomax ICA\n"
     ]
    },
    {
     "name": "stderr",
     "output_type": "stream",
     "text": [
      "<ipython-input-7-9f71c3044bd4>:10: DeprecationWarning: method='extended-infomax' is deprecated and will be removed in 0.19. If you want to use Extended Infomax, specify method='infomax' together with fit_params=dict(extended=True).\n",
      "  ica = ICA(method=\"extended-infomax\", random_state=1)\n"
     ]
    },
    {
     "name": "stdout",
     "output_type": "stream",
     "text": [
      "Fitting ICA took 1.7s.\n",
      "Transforming to ICA space (10 components)\n",
      "Zeroing out 2 ICA components\n",
      "Fitting ICA to data using 10 channels (please be patient, this may take a while)\n",
      "Inferring max_pca_components from picks\n",
      "Using all PCA components: 10\n",
      "Computing Extended Infomax ICA\n"
     ]
    },
    {
     "name": "stderr",
     "output_type": "stream",
     "text": [
      "<ipython-input-7-9f71c3044bd4>:10: DeprecationWarning: method='extended-infomax' is deprecated and will be removed in 0.19. If you want to use Extended Infomax, specify method='infomax' together with fit_params=dict(extended=True).\n",
      "  ica = ICA(method=\"extended-infomax\", random_state=1)\n"
     ]
    },
    {
     "name": "stdout",
     "output_type": "stream",
     "text": [
      "Fitting ICA took 2.1s.\n",
      "Transforming to ICA space (10 components)\n",
      "Zeroing out 2 ICA components\n",
      "Fitting ICA to data using 10 channels (please be patient, this may take a while)\n",
      "Inferring max_pca_components from picks\n",
      "Using all PCA components: 10\n",
      "Computing Extended Infomax ICA\n"
     ]
    },
    {
     "name": "stderr",
     "output_type": "stream",
     "text": [
      "<ipython-input-7-9f71c3044bd4>:10: DeprecationWarning: method='extended-infomax' is deprecated and will be removed in 0.19. If you want to use Extended Infomax, specify method='infomax' together with fit_params=dict(extended=True).\n",
      "  ica = ICA(method=\"extended-infomax\", random_state=1)\n"
     ]
    },
    {
     "name": "stdout",
     "output_type": "stream",
     "text": [
      "Fitting ICA took 1.9s.\n",
      "Transforming to ICA space (10 components)\n",
      "Zeroing out 1 ICA components\n"
     ]
    }
   ],
   "source": [
    "i = 0\n",
    "PATH = \"figures/figure3\"\n",
    "for task in eeg.tasks:\n",
    "    for c in chunks(task, 15):\n",
    "        i+=1\n",
    "        # if i > 1:\n",
    "        # break\n",
    "            \n",
    "        sample_raw, sample_raw_baseline, sample_raw_bandpass, sample_raw_eog = baseline_bandpass(c)\n",
    "        ica, sample_raw_train, sample_raw_corrected = ica_pipe(sample_raw_bandpass)\n",
    "        \n",
    "        # Save fig\n",
    "        plot_sig_(\n",
    "            sig= ica.get_sources(inst=sample_raw_train).get_data() * 1e3,\n",
    "            eog= sample_raw_eog.get_data() * 1e3,\n",
    "            ch_names = ica.get_sources(inst=sample_raw_train).ch_names,\n",
    "            eog_ch_names = sample_raw_eog.ch_names,\n",
    "            fs=500,\n",
    "            # unit=\"10^-6 V\",\n",
    "            eog_unit = \"10^-6 V\",\n",
    "            dpi=100,\n",
    "            fname=f\"{PATH}/fig3_{i}\"\n",
    "        );"
   ]
  },
  {
   "cell_type": "code",
   "execution_count": null,
   "metadata": {},
   "outputs": [],
   "source": []
  }
 ],
 "metadata": {
  "kernelspec": {
   "display_name": "Python 3",
   "language": "python",
   "name": "python3"
  },
  "language_info": {
   "codemirror_mode": {
    "name": "ipython",
    "version": 3
   },
   "file_extension": ".py",
   "mimetype": "text/x-python",
   "name": "python",
   "nbconvert_exporter": "python",
   "pygments_lexer": "ipython3",
   "version": "3.7.4"
  }
 },
 "nbformat": 4,
 "nbformat_minor": 4
}
