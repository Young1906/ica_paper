{
 "cells": [
  {
   "cell_type": "code",
   "execution_count": 1,
   "metadata": {},
   "outputs": [],
   "source": [
    "from matplotlib import pyplot as plt\n",
    "import numpy as np\n",
    "from eeg_v2 import EEG\n",
    "from utils import chunks, baseline_calc, butter_bandpass_filter\n",
    "import random\n",
    "from mne.preprocessing import ICA"
   ]
  },
  {
   "cell_type": "code",
   "execution_count": 2,
   "metadata": {},
   "outputs": [
    {
     "name": "stderr",
     "output_type": "stream",
     "text": [
      "/home/tudo/Desktop/code/ica_paper/eeg_v2.py:17: RuntimeWarning: Channel names are not unique, found duplicates for: {'EMG Chin'}. Applying running numbers for duplicates.\n",
      "  raw = read_raw_edf(self.path_edf, preload=True, verbose=0)\n"
     ]
    }
   ],
   "source": [
    "# Reading raw data\n",
    "path_edf=\"./edf/1578_alice/edf/A0001578.edf\"\n",
    "path_stage=\"./edf/1578_alice/csv/STAGE.csv\"\n",
    "\n",
    "eeg = EEG(path_edf=path_edf, path_stage=path_stage)"
   ]
  },
  {
   "cell_type": "code",
   "execution_count": 3,
   "metadata": {},
   "outputs": [],
   "source": [
    "# Params\n",
    "_window = 15\n",
    "_fs = 500"
   ]
  },
  {
   "cell_type": "code",
   "execution_count": 4,
   "metadata": {},
   "outputs": [],
   "source": [
    "# Preprocessing function\n",
    "def f(eeg):\n",
    "    \n",
    "    # Getting randome chunk of data from raw signal\n",
    "    _chunk = random.choice(list(chunks(random.choice(eeg.tasks), _window)))\n",
    "    _min, _max = np.min(_chunk), np.max(_chunk)\n",
    "\n",
    "    \n",
    "    # Preprocessing\n",
    "    # Getting sample data\n",
    "    sample_raw = eeg.raw.copy().crop(_min, _max, include_tmax=False)\n",
    "    eog_channels = eeg.eog_channels.copy().crop(_min, _max, include_tmax=False)\n",
    "\n",
    "    # Apply baseline correction\n",
    "    sample_raw_baseline = sample_raw.copy()\n",
    "    sample_raw_baseline.apply_function(baseline_calc)\n",
    "    # eog_channels.apply_function(baseline_calc)\n",
    "\n",
    "    # Apply bandpass filter\n",
    "    sample_raw_bandpass = sample_raw_baseline.copy()\n",
    "    sample_raw_bandpass.apply_function(butter_bandpass_filter)\n",
    "    \n",
    "    # Applying ICA\n",
    "    sample_raw_train = sample_raw_bandpass.copy()\n",
    "    sample_raw_corrected = sample_raw_bandpass.copy()\n",
    "\n",
    "    # Train\n",
    "    ica = ICA(method=\"extended-infomax\", random_state=1)\n",
    "    ica.fit(sample_raw_corrected)\n",
    "    \n",
    "    return _min, _max, sample_raw, sample_raw_baseline, sample_raw_bandpass, sample_raw_corrected, ica"
   ]
  },
  {
   "cell_type": "code",
   "execution_count": 5,
   "metadata": {},
   "outputs": [
    {
     "name": "stdout",
     "output_type": "stream",
     "text": [
      "Fitting ICA to data using 10 channels (please be patient, this may take a while)\n",
      "Inferring max_pca_components from picks\n",
      "Using all PCA components: 10\n",
      "Computing Extended Infomax ICA\n"
     ]
    },
    {
     "name": "stderr",
     "output_type": "stream",
     "text": [
      "<ipython-input-4-36984df7469a>:28: DeprecationWarning: method='extended-infomax' is deprecated and will be removed in 0.19. If you want to use Extended Infomax, specify method='infomax' together with fit_params=dict(extended=True).\n",
      "  ica = ICA(method=\"extended-infomax\", random_state=1)\n"
     ]
    },
    {
     "name": "stdout",
     "output_type": "stream",
     "text": [
      "Fitting ICA took 3.8s.\n"
     ]
    }
   ],
   "source": [
    "_min, _max, sample_raw, sample_raw_baseline, sample_raw_bandpass, sample_raw_corrected, ica = f(eeg)"
   ]
  },
  {
   "cell_type": "code",
   "execution_count": null,
   "metadata": {},
   "outputs": [],
   "source": [
    "def plot(sig):\n",
    "    n, l = s"
   ]
  }
 ],
 "metadata": {
  "kernelspec": {
   "display_name": "Python 3",
   "language": "python",
   "name": "python3"
  },
  "language_info": {
   "codemirror_mode": {
    "name": "ipython",
    "version": 3
   },
   "file_extension": ".py",
   "mimetype": "text/x-python",
   "name": "python",
   "nbconvert_exporter": "python",
   "pygments_lexer": "ipython3",
   "version": "3.7.4"
  }
 },
 "nbformat": 4,
 "nbformat_minor": 4
}
