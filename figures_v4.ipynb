{
 "cells": [
  {
   "cell_type": "code",
   "execution_count": 1,
   "metadata": {},
   "outputs": [
    {
     "data": {
      "text/html": [
       "<script>\n",
       "code_show=true; \n",
       "function code_toggle() {\n",
       " if (code_show){\n",
       " $('div.input').hide();\n",
       " } else {\n",
       " $('div.input').show();\n",
       " }\n",
       " code_show = !code_show\n",
       "} \n",
       "$( document ).ready(code_toggle);\n",
       "</script>\n",
       "<form action=\"javascript:code_toggle()\"><input type=\"submit\" value=\"Click here to toggle on/off the raw code.\"></form>"
      ],
      "text/plain": [
       "<IPython.core.display.HTML object>"
      ]
     },
     "execution_count": 1,
     "metadata": {},
     "output_type": "execute_result"
    }
   ],
   "source": [
    "from IPython.display import HTML\n",
    "\n",
    "HTML('''<script>\n",
    "code_show=true; \n",
    "function code_toggle() {\n",
    " if (code_show){\n",
    " $('div.input').hide();\n",
    " } else {\n",
    " $('div.input').show();\n",
    " }\n",
    " code_show = !code_show\n",
    "} \n",
    "$( document ).ready(code_toggle);\n",
    "</script>\n",
    "<form action=\"javascript:code_toggle()\"><input type=\"submit\" value=\"Click here to toggle on/off the raw code.\"></form>''')"
   ]
  },
  {
   "cell_type": "code",
   "execution_count": 3,
   "metadata": {},
   "outputs": [],
   "source": [
    "from matplotlib import pyplot as plt\n",
    "import numpy as np\n",
    "from figure_v2 import plot_sig_3\n",
    "from eeg_v2 import EEG\n",
    "from utils import chunks, baseline_calc, butter_bandpass_filter\n",
    "import joblib\n",
    "from mne.preprocessing import ICA"
   ]
  },
  {
   "cell_type": "markdown",
   "metadata": {},
   "source": [
    "# Function and Lib"
   ]
  },
  {
   "cell_type": "code",
   "execution_count": 4,
   "metadata": {},
   "outputs": [],
   "source": [
    "def _get_ica_map(ica, components=None):\n",
    "    \"\"\"Get ICA topomap for components\"\"\"\n",
    "    fast_dot = np.dot\n",
    "    if components is None:\n",
    "        components = list(range(ica.n_components_))\n",
    "    maps = fast_dot(ica.mixing_matrix_[:, components].T,\n",
    "                    ica.pca_components_[:ica.n_components_])\n",
    "    return maps\n",
    "\n",
    "def get_chunks(sig):\n",
    "    i = 0\n",
    "    for task in sig.tasks:\n",
    "        for c in chunks(task, 15):\n",
    "            i+=1\n",
    "            yield i, c\n",
    "            \n",
    "def count_chunks(sig):\n",
    "    i = 0\n",
    "    for task in sig.tasks:\n",
    "        for c in chunks(task, 15):\n",
    "            i+=1\n",
    "    return i"
   ]
  },
  {
   "cell_type": "code",
   "execution_count": 5,
   "metadata": {},
   "outputs": [
    {
     "name": "stderr",
     "output_type": "stream",
     "text": [
      "C:\\Users\\tudot\\Desktop\\codes\\ica_paper\\eeg_v2.py:17: RuntimeWarning: Channel names are not unique, found duplicates for: {'EMG Chin'}. Applying running numbers for duplicates.\n",
      "  raw = read_raw_edf(self.path_edf, preload=True, verbose=0)\n"
     ]
    }
   ],
   "source": [
    "# Reading raw data\n",
    "path_edf=\"./edf/1578_alice/edf/A0001578.edf\"\n",
    "path_stage=\"./edf/1578_alice/csv/STAGE.csv\"\n",
    "\n",
    "eeg = EEG(path_edf=path_edf, path_stage=path_stage)"
   ]
  },
  {
   "cell_type": "code",
   "execution_count": 6,
   "metadata": {},
   "outputs": [],
   "source": [
    "# # Pick a chunks\n",
    "\n",
    "# _chunks = get_chunks(eeg)\n",
    "# for i in range(16):\n",
    "#     _, chunk = next(_chunks)\n",
    "\n",
    "# print(_)\n",
    "# print(np.min(chunk),np.max(chunk))"
   ]
  },
  {
   "cell_type": "code",
   "execution_count": 7,
   "metadata": {},
   "outputs": [],
   "source": [
    "# Preprocessing pipeline\n",
    "def baseline_bandpass(chunk):\n",
    "    sample_raw = eeg.raw.copy().crop(np.min(chunk),np.max(chunk),include_tmax=False)\n",
    "    sample_raw_eog = eeg.eog_channels.copy().crop(np.min(chunk),np.max(chunk),include_tmax=False)\n",
    "\n",
    "\n",
    "    # Baseline\n",
    "    sample_raw_baseline = sample_raw.copy()\n",
    "    sample_raw_baseline = sample_raw_baseline.apply_function(baseline_calc)\n",
    "\n",
    "    # Bandpass\n",
    "    sample_raw_bandpass = sample_raw_baseline.copy()\n",
    "    sample_raw_bandpass = sample_raw_bandpass.apply_function(butter_bandpass_filter)\n",
    "    \n",
    "    return sample_raw, sample_raw_baseline, sample_raw_bandpass, sample_raw_eog"
   ]
  },
  {
   "cell_type": "code",
   "execution_count": 8,
   "metadata": {},
   "outputs": [],
   "source": [
    "# ICA pipeline\n",
    "def ica_pipe(sample_raw_bandpass):    \n",
    "    clf = joblib.load(\"./models/eog_classifier_v2.joblib\")\n",
    "\n",
    "\n",
    "    sample_raw_train = sample_raw_bandpass.copy()\n",
    "    sample_raw_corrected = sample_raw_bandpass.copy()\n",
    "\n",
    "    # Fitting ICA\n",
    "    ica = ICA(method=\"extended-infomax\", random_state=1)\n",
    "    ica.fit(sample_raw_corrected)\n",
    "\n",
    "    maps = _get_ica_map(ica).T\n",
    "    scalings = np.linalg.norm(maps, axis=0)\n",
    "    maps /= scalings[None, :]\n",
    "    X = maps.T\n",
    "\n",
    "    # Predict EOG\n",
    "    eog_preds = clf.predict(X)\n",
    "    list_of_eog = np.where(eog_preds == 1)[0]\n",
    "    \n",
    "    # ica.plot_sources(inst=sample_raw_train) \n",
    "    # ica.plot_components(inst=sample_raw_train)\n",
    "\n",
    "    ica.exclude = list_of_eog\n",
    "    ica.apply(sample_raw_corrected)\n",
    "    \n",
    "    return ica, sample_raw_train, sample_raw_corrected"
   ]
  },
  {
   "cell_type": "markdown",
   "metadata": {},
   "source": [
    "# FIGURE 2"
   ]
  },
  {
   "cell_type": "markdown",
   "metadata": {},
   "source": [
    "## Raw + After baseline + bandpass"
   ]
  },
  {
   "cell_type": "code",
   "execution_count": 9,
   "metadata": {},
   "outputs": [
    {
     "ename": "NameError",
     "evalue": "name '_scale_after' is not defined",
     "output_type": "error",
     "traceback": [
      "\u001b[1;31m---------------------------------------------------------------------------\u001b[0m",
      "\u001b[1;31mNameError\u001b[0m                                 Traceback (most recent call last)",
      "\u001b[1;32m<ipython-input-9-6336842bf610>\u001b[0m in \u001b[0;36m<module>\u001b[1;34m\u001b[0m\n\u001b[0;32m     26\u001b[0m             \u001b[0meog_ch_names\u001b[0m \u001b[1;33m=\u001b[0m \u001b[0msample_raw_eog\u001b[0m\u001b[1;33m.\u001b[0m\u001b[0mch_names\u001b[0m\u001b[1;33m,\u001b[0m\u001b[1;33m\u001b[0m\u001b[1;33m\u001b[0m\u001b[0m\n\u001b[0;32m     27\u001b[0m             \u001b[0mmarkers\u001b[0m \u001b[1;33m=\u001b[0m \u001b[1;33m[\u001b[0m\u001b[1;36m.3\u001b[0m\u001b[1;33m,\u001b[0m\u001b[1;36m2.2\u001b[0m\u001b[1;33m,\u001b[0m\u001b[1;36m3.3\u001b[0m\u001b[1;33m,\u001b[0m\u001b[1;36m4.9\u001b[0m\u001b[1;33m]\u001b[0m\u001b[1;33m,\u001b[0m\u001b[1;33m\u001b[0m\u001b[1;33m\u001b[0m\u001b[0m\n\u001b[1;32m---> 28\u001b[1;33m             \u001b[0mscale\u001b[0m\u001b[1;33m=\u001b[0m\u001b[0m_scale_after\u001b[0m\u001b[1;33m/\u001b[0m\u001b[1;36m1e3\u001b[0m\u001b[1;33m,\u001b[0m\u001b[1;33m\u001b[0m\u001b[1;33m\u001b[0m\u001b[0m\n\u001b[0m\u001b[0;32m     29\u001b[0m             \u001b[0meog_unit\u001b[0m \u001b[1;33m=\u001b[0m \u001b[1;34m\"1e-06V\"\u001b[0m\u001b[1;33m,\u001b[0m\u001b[1;33m\u001b[0m\u001b[1;33m\u001b[0m\u001b[0m\n\u001b[0;32m     30\u001b[0m         );\n",
      "\u001b[1;31mNameError\u001b[0m: name '_scale_after' is not defined"
     ]
    }
   ],
   "source": [
    "plt.rcParams[\"figure.figsize\"] = [10,5]\n",
    "PATH = \"figures/figure2\"\n",
    "i = 0\n",
    "for task in eeg.tasks:\n",
    "    for c in chunks(task, 15):\n",
    "        i+=1\n",
    "        \n",
    "        if i!=7:\n",
    "            continue\n",
    "        \n",
    "        if i>7:\n",
    "            break\n",
    "        \n",
    "        sample_raw, sample_raw_baseline, sample_raw_bandpass, sample_raw_eog = baseline_bandpass(c)\n",
    "        # ica, sample_raw_train, sample_raw_corrected = ica_pipe(sample_raw_bandpass)\n",
    "        \n",
    "\n",
    "        # Raw\n",
    "        plot_sig_2(\n",
    "            sig = sample_raw.get_data() / 1e3,\n",
    "            fs = 500,\n",
    "            dpi = 150,\n",
    "            unit = \"1e-06V\",\n",
    "            ch_names = sample_raw.ch_names,\n",
    "            eog_sig = sample_raw_eog.get_data() / 1e3,\n",
    "            eog_ch_names = sample_raw_eog.ch_names,\n",
    "            markers = [.3,2.2,3.3,4.9],\n",
    "            scale=_scale_after/1e3,\n",
    "            eog_unit = \"1e-06V\",\n",
    "        );\n",
    "        \n",
    "\n",
    "        # Baseline + Bandpass\n",
    "        plot_sig_2(\n",
    "            sig = sample_raw_bandpass.get_data() / 1e3,\n",
    "            fs = 500,\n",
    "            dpi = 150,\n",
    "            unit = \"1e-06V\",\n",
    "            ch_names = sample_raw.ch_names,\n",
    "            eog_sig = sample_raw_eog.get_data() / 1e3,\n",
    "            eog_ch_names = sample_raw_eog.ch_names,\n",
    "            eog_unit = \"1e-06V\",\n",
    "            markers = [.3,2.2,3.3,4.9],\n",
    "            scale=_scale_after/1e3\n",
    "        );"
   ]
  },
  {
   "cell_type": "markdown",
   "metadata": {},
   "source": [
    "# FIGURE 3"
   ]
  },
  {
   "cell_type": "markdown",
   "metadata": {},
   "source": [
    "## Good example"
   ]
  },
  {
   "cell_type": "code",
   "execution_count": 11,
   "metadata": {},
   "outputs": [
    {
     "ename": "ModuleNotFoundError",
     "evalue": "No module named 'sklearn.preprocessing._data'",
     "output_type": "error",
     "traceback": [
      "\u001b[1;31m---------------------------------------------------------------------------\u001b[0m",
      "\u001b[1;31mModuleNotFoundError\u001b[0m                       Traceback (most recent call last)",
      "\u001b[1;32m<ipython-input-11-bf359207b445>\u001b[0m in \u001b[0;36m<module>\u001b[1;34m\u001b[0m\n\u001b[0;32m     12\u001b[0m \u001b[1;33m\u001b[0m\u001b[0m\n\u001b[0;32m     13\u001b[0m         \u001b[0msample_raw\u001b[0m\u001b[1;33m,\u001b[0m \u001b[0msample_raw_baseline\u001b[0m\u001b[1;33m,\u001b[0m \u001b[0msample_raw_bandpass\u001b[0m\u001b[1;33m,\u001b[0m \u001b[0msample_raw_eog\u001b[0m \u001b[1;33m=\u001b[0m \u001b[0mbaseline_bandpass\u001b[0m\u001b[1;33m(\u001b[0m\u001b[0mc\u001b[0m\u001b[1;33m)\u001b[0m\u001b[1;33m\u001b[0m\u001b[1;33m\u001b[0m\u001b[0m\n\u001b[1;32m---> 14\u001b[1;33m         \u001b[0mica\u001b[0m\u001b[1;33m,\u001b[0m \u001b[0msample_raw_train\u001b[0m\u001b[1;33m,\u001b[0m \u001b[0msample_raw_corrected\u001b[0m \u001b[1;33m=\u001b[0m \u001b[0mica_pipe\u001b[0m\u001b[1;33m(\u001b[0m\u001b[0msample_raw_bandpass\u001b[0m\u001b[1;33m)\u001b[0m\u001b[1;33m\u001b[0m\u001b[1;33m\u001b[0m\u001b[0m\n\u001b[0m\u001b[0;32m     15\u001b[0m \u001b[1;33m\u001b[0m\u001b[0m\n\u001b[0;32m     16\u001b[0m         \u001b[1;31m# Save fig\u001b[0m\u001b[1;33m\u001b[0m\u001b[1;33m\u001b[0m\u001b[1;33m\u001b[0m\u001b[0m\n",
      "\u001b[1;32m<ipython-input-8-9f71c3044bd4>\u001b[0m in \u001b[0;36mica_pipe\u001b[1;34m(sample_raw_bandpass)\u001b[0m\n\u001b[0;32m      1\u001b[0m \u001b[1;31m# ICA pipeline\u001b[0m\u001b[1;33m\u001b[0m\u001b[1;33m\u001b[0m\u001b[1;33m\u001b[0m\u001b[0m\n\u001b[0;32m      2\u001b[0m \u001b[1;32mdef\u001b[0m \u001b[0mica_pipe\u001b[0m\u001b[1;33m(\u001b[0m\u001b[0msample_raw_bandpass\u001b[0m\u001b[1;33m)\u001b[0m\u001b[1;33m:\u001b[0m\u001b[1;33m\u001b[0m\u001b[1;33m\u001b[0m\u001b[0m\n\u001b[1;32m----> 3\u001b[1;33m     \u001b[0mclf\u001b[0m \u001b[1;33m=\u001b[0m \u001b[0mjoblib\u001b[0m\u001b[1;33m.\u001b[0m\u001b[0mload\u001b[0m\u001b[1;33m(\u001b[0m\u001b[1;34m\"./models/eog_classifier_v2.joblib\"\u001b[0m\u001b[1;33m)\u001b[0m\u001b[1;33m\u001b[0m\u001b[1;33m\u001b[0m\u001b[0m\n\u001b[0m\u001b[0;32m      4\u001b[0m \u001b[1;33m\u001b[0m\u001b[0m\n\u001b[0;32m      5\u001b[0m \u001b[1;33m\u001b[0m\u001b[0m\n",
      "\u001b[1;32mD:\\Apps\\Anaconda3\\lib\\site-packages\\joblib\\numpy_pickle.py\u001b[0m in \u001b[0;36mload\u001b[1;34m(filename, mmap_mode)\u001b[0m\n\u001b[0;32m    596\u001b[0m                     \u001b[1;32mreturn\u001b[0m \u001b[0mload_compatibility\u001b[0m\u001b[1;33m(\u001b[0m\u001b[0mfobj\u001b[0m\u001b[1;33m)\u001b[0m\u001b[1;33m\u001b[0m\u001b[1;33m\u001b[0m\u001b[0m\n\u001b[0;32m    597\u001b[0m \u001b[1;33m\u001b[0m\u001b[0m\n\u001b[1;32m--> 598\u001b[1;33m                 \u001b[0mobj\u001b[0m \u001b[1;33m=\u001b[0m \u001b[0m_unpickle\u001b[0m\u001b[1;33m(\u001b[0m\u001b[0mfobj\u001b[0m\u001b[1;33m,\u001b[0m \u001b[0mfilename\u001b[0m\u001b[1;33m,\u001b[0m \u001b[0mmmap_mode\u001b[0m\u001b[1;33m)\u001b[0m\u001b[1;33m\u001b[0m\u001b[1;33m\u001b[0m\u001b[0m\n\u001b[0m\u001b[0;32m    599\u001b[0m \u001b[1;33m\u001b[0m\u001b[0m\n\u001b[0;32m    600\u001b[0m     \u001b[1;32mreturn\u001b[0m \u001b[0mobj\u001b[0m\u001b[1;33m\u001b[0m\u001b[1;33m\u001b[0m\u001b[0m\n",
      "\u001b[1;32mD:\\Apps\\Anaconda3\\lib\\site-packages\\joblib\\numpy_pickle.py\u001b[0m in \u001b[0;36m_unpickle\u001b[1;34m(fobj, filename, mmap_mode)\u001b[0m\n\u001b[0;32m    524\u001b[0m     \u001b[0mobj\u001b[0m \u001b[1;33m=\u001b[0m \u001b[1;32mNone\u001b[0m\u001b[1;33m\u001b[0m\u001b[1;33m\u001b[0m\u001b[0m\n\u001b[0;32m    525\u001b[0m     \u001b[1;32mtry\u001b[0m\u001b[1;33m:\u001b[0m\u001b[1;33m\u001b[0m\u001b[1;33m\u001b[0m\u001b[0m\n\u001b[1;32m--> 526\u001b[1;33m         \u001b[0mobj\u001b[0m \u001b[1;33m=\u001b[0m \u001b[0munpickler\u001b[0m\u001b[1;33m.\u001b[0m\u001b[0mload\u001b[0m\u001b[1;33m(\u001b[0m\u001b[1;33m)\u001b[0m\u001b[1;33m\u001b[0m\u001b[1;33m\u001b[0m\u001b[0m\n\u001b[0m\u001b[0;32m    527\u001b[0m         \u001b[1;32mif\u001b[0m \u001b[0munpickler\u001b[0m\u001b[1;33m.\u001b[0m\u001b[0mcompat_mode\u001b[0m\u001b[1;33m:\u001b[0m\u001b[1;33m\u001b[0m\u001b[1;33m\u001b[0m\u001b[0m\n\u001b[0;32m    528\u001b[0m             warnings.warn(\"The file '%s' has been generated with a \"\n",
      "\u001b[1;32mD:\\Apps\\Anaconda3\\lib\\pickle.py\u001b[0m in \u001b[0;36mload\u001b[1;34m(self)\u001b[0m\n\u001b[0;32m   1086\u001b[0m                     \u001b[1;32mraise\u001b[0m \u001b[0mEOFError\u001b[0m\u001b[1;33m\u001b[0m\u001b[1;33m\u001b[0m\u001b[0m\n\u001b[0;32m   1087\u001b[0m                 \u001b[1;32massert\u001b[0m \u001b[0misinstance\u001b[0m\u001b[1;33m(\u001b[0m\u001b[0mkey\u001b[0m\u001b[1;33m,\u001b[0m \u001b[0mbytes_types\u001b[0m\u001b[1;33m)\u001b[0m\u001b[1;33m\u001b[0m\u001b[1;33m\u001b[0m\u001b[0m\n\u001b[1;32m-> 1088\u001b[1;33m                 \u001b[0mdispatch\u001b[0m\u001b[1;33m[\u001b[0m\u001b[0mkey\u001b[0m\u001b[1;33m[\u001b[0m\u001b[1;36m0\u001b[0m\u001b[1;33m]\u001b[0m\u001b[1;33m]\u001b[0m\u001b[1;33m(\u001b[0m\u001b[0mself\u001b[0m\u001b[1;33m)\u001b[0m\u001b[1;33m\u001b[0m\u001b[1;33m\u001b[0m\u001b[0m\n\u001b[0m\u001b[0;32m   1089\u001b[0m         \u001b[1;32mexcept\u001b[0m \u001b[0m_Stop\u001b[0m \u001b[1;32mas\u001b[0m \u001b[0mstopinst\u001b[0m\u001b[1;33m:\u001b[0m\u001b[1;33m\u001b[0m\u001b[1;33m\u001b[0m\u001b[0m\n\u001b[0;32m   1090\u001b[0m             \u001b[1;32mreturn\u001b[0m \u001b[0mstopinst\u001b[0m\u001b[1;33m.\u001b[0m\u001b[0mvalue\u001b[0m\u001b[1;33m\u001b[0m\u001b[1;33m\u001b[0m\u001b[0m\n",
      "\u001b[1;32mD:\\Apps\\Anaconda3\\lib\\pickle.py\u001b[0m in \u001b[0;36mload_global\u001b[1;34m(self)\u001b[0m\n\u001b[0;32m   1374\u001b[0m         \u001b[0mmodule\u001b[0m \u001b[1;33m=\u001b[0m \u001b[0mself\u001b[0m\u001b[1;33m.\u001b[0m\u001b[0mreadline\u001b[0m\u001b[1;33m(\u001b[0m\u001b[1;33m)\u001b[0m\u001b[1;33m[\u001b[0m\u001b[1;33m:\u001b[0m\u001b[1;33m-\u001b[0m\u001b[1;36m1\u001b[0m\u001b[1;33m]\u001b[0m\u001b[1;33m.\u001b[0m\u001b[0mdecode\u001b[0m\u001b[1;33m(\u001b[0m\u001b[1;34m\"utf-8\"\u001b[0m\u001b[1;33m)\u001b[0m\u001b[1;33m\u001b[0m\u001b[1;33m\u001b[0m\u001b[0m\n\u001b[0;32m   1375\u001b[0m         \u001b[0mname\u001b[0m \u001b[1;33m=\u001b[0m \u001b[0mself\u001b[0m\u001b[1;33m.\u001b[0m\u001b[0mreadline\u001b[0m\u001b[1;33m(\u001b[0m\u001b[1;33m)\u001b[0m\u001b[1;33m[\u001b[0m\u001b[1;33m:\u001b[0m\u001b[1;33m-\u001b[0m\u001b[1;36m1\u001b[0m\u001b[1;33m]\u001b[0m\u001b[1;33m.\u001b[0m\u001b[0mdecode\u001b[0m\u001b[1;33m(\u001b[0m\u001b[1;34m\"utf-8\"\u001b[0m\u001b[1;33m)\u001b[0m\u001b[1;33m\u001b[0m\u001b[1;33m\u001b[0m\u001b[0m\n\u001b[1;32m-> 1376\u001b[1;33m         \u001b[0mklass\u001b[0m \u001b[1;33m=\u001b[0m \u001b[0mself\u001b[0m\u001b[1;33m.\u001b[0m\u001b[0mfind_class\u001b[0m\u001b[1;33m(\u001b[0m\u001b[0mmodule\u001b[0m\u001b[1;33m,\u001b[0m \u001b[0mname\u001b[0m\u001b[1;33m)\u001b[0m\u001b[1;33m\u001b[0m\u001b[1;33m\u001b[0m\u001b[0m\n\u001b[0m\u001b[0;32m   1377\u001b[0m         \u001b[0mself\u001b[0m\u001b[1;33m.\u001b[0m\u001b[0mappend\u001b[0m\u001b[1;33m(\u001b[0m\u001b[0mklass\u001b[0m\u001b[1;33m)\u001b[0m\u001b[1;33m\u001b[0m\u001b[1;33m\u001b[0m\u001b[0m\n\u001b[0;32m   1378\u001b[0m     \u001b[0mdispatch\u001b[0m\u001b[1;33m[\u001b[0m\u001b[0mGLOBAL\u001b[0m\u001b[1;33m[\u001b[0m\u001b[1;36m0\u001b[0m\u001b[1;33m]\u001b[0m\u001b[1;33m]\u001b[0m \u001b[1;33m=\u001b[0m \u001b[0mload_global\u001b[0m\u001b[1;33m\u001b[0m\u001b[1;33m\u001b[0m\u001b[0m\n",
      "\u001b[1;32mD:\\Apps\\Anaconda3\\lib\\pickle.py\u001b[0m in \u001b[0;36mfind_class\u001b[1;34m(self, module, name)\u001b[0m\n\u001b[0;32m   1424\u001b[0m             \u001b[1;32melif\u001b[0m \u001b[0mmodule\u001b[0m \u001b[1;32min\u001b[0m \u001b[0m_compat_pickle\u001b[0m\u001b[1;33m.\u001b[0m\u001b[0mIMPORT_MAPPING\u001b[0m\u001b[1;33m:\u001b[0m\u001b[1;33m\u001b[0m\u001b[1;33m\u001b[0m\u001b[0m\n\u001b[0;32m   1425\u001b[0m                 \u001b[0mmodule\u001b[0m \u001b[1;33m=\u001b[0m \u001b[0m_compat_pickle\u001b[0m\u001b[1;33m.\u001b[0m\u001b[0mIMPORT_MAPPING\u001b[0m\u001b[1;33m[\u001b[0m\u001b[0mmodule\u001b[0m\u001b[1;33m]\u001b[0m\u001b[1;33m\u001b[0m\u001b[1;33m\u001b[0m\u001b[0m\n\u001b[1;32m-> 1426\u001b[1;33m         \u001b[0m__import__\u001b[0m\u001b[1;33m(\u001b[0m\u001b[0mmodule\u001b[0m\u001b[1;33m,\u001b[0m \u001b[0mlevel\u001b[0m\u001b[1;33m=\u001b[0m\u001b[1;36m0\u001b[0m\u001b[1;33m)\u001b[0m\u001b[1;33m\u001b[0m\u001b[1;33m\u001b[0m\u001b[0m\n\u001b[0m\u001b[0;32m   1427\u001b[0m         \u001b[1;32mif\u001b[0m \u001b[0mself\u001b[0m\u001b[1;33m.\u001b[0m\u001b[0mproto\u001b[0m \u001b[1;33m>=\u001b[0m \u001b[1;36m4\u001b[0m\u001b[1;33m:\u001b[0m\u001b[1;33m\u001b[0m\u001b[1;33m\u001b[0m\u001b[0m\n\u001b[0;32m   1428\u001b[0m             \u001b[1;32mreturn\u001b[0m \u001b[0m_getattribute\u001b[0m\u001b[1;33m(\u001b[0m\u001b[0msys\u001b[0m\u001b[1;33m.\u001b[0m\u001b[0mmodules\u001b[0m\u001b[1;33m[\u001b[0m\u001b[0mmodule\u001b[0m\u001b[1;33m]\u001b[0m\u001b[1;33m,\u001b[0m \u001b[0mname\u001b[0m\u001b[1;33m)\u001b[0m\u001b[1;33m[\u001b[0m\u001b[1;36m0\u001b[0m\u001b[1;33m]\u001b[0m\u001b[1;33m\u001b[0m\u001b[1;33m\u001b[0m\u001b[0m\n",
      "\u001b[1;31mModuleNotFoundError\u001b[0m: No module named 'sklearn.preprocessing._data'"
     ]
    }
   ],
   "source": [
    "i = 0\n",
    "PATH = \"figures/figure3\"\n",
    "for task in eeg.tasks:\n",
    "    for c in chunks(task, 15):\n",
    "        i+=1\n",
    "        if i!=7:\n",
    "            continue\n",
    "        \n",
    "        if i>7:\n",
    "            break\n",
    "        \n",
    "            \n",
    "        sample_raw, sample_raw_baseline, sample_raw_bandpass, sample_raw_eog = baseline_bandpass(c)\n",
    "        ica, sample_raw_train, sample_raw_corrected = ica_pipe(sample_raw_bandpass)\n",
    "        \n",
    "        # Save fig\n",
    "        plot_sig_2(\n",
    "            sig = ica.get_sources(inst=sample_raw_train).get_data() / 1e3,\n",
    "            fs = 500,\n",
    "            dpi = 150,\n",
    "            # unit = \"1e-06V\",\n",
    "            ch_names = ica.get_sources(inst=sample_raw_train).ch_names,\n",
    "            eog_sig = sample_raw_eog.get_data() / 1e3,\n",
    "            eog_ch_names = sample_raw_eog.ch_names,\n",
    "            markers = [.3,2.2,3.3,4.9]\n",
    "        );\n",
    "        \n",
    "        ica.plot_components(inst=sample_raw_train)"
   ]
  },
  {
   "cell_type": "markdown",
   "metadata": {},
   "source": [
    "# Figure 4"
   ]
  },
  {
   "cell_type": "markdown",
   "metadata": {},
   "source": [
    "## Before ICA (Bandpass + Baseline)"
   ]
  },
  {
   "cell_type": "code",
   "execution_count": 12,
   "metadata": {},
   "outputs": [
    {
     "ename": "NameError",
     "evalue": "name 'sample_raw_corrected' is not defined",
     "output_type": "error",
     "traceback": [
      "\u001b[1;31m---------------------------------------------------------------------------\u001b[0m",
      "\u001b[1;31mNameError\u001b[0m                                 Traceback (most recent call last)",
      "\u001b[1;32m<ipython-input-12-cfe90acc8c4a>\u001b[0m in \u001b[0;36m<module>\u001b[1;34m\u001b[0m\n\u001b[1;32m----> 1\u001b[1;33m \u001b[0m_scale_after\u001b[0m \u001b[1;33m=\u001b[0m \u001b[0mnp\u001b[0m\u001b[1;33m.\u001b[0m\u001b[0mmax\u001b[0m\u001b[1;33m(\u001b[0m\u001b[0msample_raw_corrected\u001b[0m\u001b[1;33m.\u001b[0m\u001b[0mget_data\u001b[0m\u001b[1;33m(\u001b[0m\u001b[1;33m)\u001b[0m\u001b[1;33m)\u001b[0m \u001b[1;33m-\u001b[0m \u001b[0mnp\u001b[0m\u001b[1;33m.\u001b[0m\u001b[0mmin\u001b[0m\u001b[1;33m(\u001b[0m\u001b[0msample_raw_corrected\u001b[0m\u001b[1;33m.\u001b[0m\u001b[0mget_data\u001b[0m\u001b[1;33m(\u001b[0m\u001b[1;33m)\u001b[0m\u001b[1;33m)\u001b[0m\u001b[1;33m\u001b[0m\u001b[1;33m\u001b[0m\u001b[0m\n\u001b[0m",
      "\u001b[1;31mNameError\u001b[0m: name 'sample_raw_corrected' is not defined"
     ]
    }
   ],
   "source": [
    "_scale_after = np.max(sample_raw_corrected.get_data()) - np.min(sample_raw_corrected.get_data())"
   ]
  },
  {
   "cell_type": "code",
   "execution_count": 13,
   "metadata": {},
   "outputs": [
    {
     "ename": "NameError",
     "evalue": "name 'sample_raw_corrected' is not defined",
     "output_type": "error",
     "traceback": [
      "\u001b[1;31m---------------------------------------------------------------------------\u001b[0m",
      "\u001b[1;31mNameError\u001b[0m                                 Traceback (most recent call last)",
      "\u001b[1;32m<ipython-input-13-2c329bf63ee3>\u001b[0m in \u001b[0;36m<module>\u001b[1;34m\u001b[0m\n\u001b[0;32m      4\u001b[0m     \u001b[0mdpi\u001b[0m \u001b[1;33m=\u001b[0m \u001b[1;36m150\u001b[0m\u001b[1;33m,\u001b[0m\u001b[1;33m\u001b[0m\u001b[1;33m\u001b[0m\u001b[0m\n\u001b[0;32m      5\u001b[0m     \u001b[0munit\u001b[0m \u001b[1;33m=\u001b[0m \u001b[1;34m\"1e-06V\"\u001b[0m\u001b[1;33m,\u001b[0m\u001b[1;33m\u001b[0m\u001b[1;33m\u001b[0m\u001b[0m\n\u001b[1;32m----> 6\u001b[1;33m     \u001b[0mch_names\u001b[0m \u001b[1;33m=\u001b[0m \u001b[0msample_raw_corrected\u001b[0m\u001b[1;33m.\u001b[0m\u001b[0mch_names\u001b[0m\u001b[1;33m,\u001b[0m\u001b[1;33m\u001b[0m\u001b[1;33m\u001b[0m\u001b[0m\n\u001b[0m\u001b[0;32m      7\u001b[0m     \u001b[0meog_sig\u001b[0m \u001b[1;33m=\u001b[0m \u001b[0msample_raw_eog\u001b[0m\u001b[1;33m.\u001b[0m\u001b[0mget_data\u001b[0m\u001b[1;33m(\u001b[0m\u001b[1;33m)\u001b[0m \u001b[1;33m/\u001b[0m \u001b[1;36m1e3\u001b[0m\u001b[1;33m,\u001b[0m\u001b[1;33m\u001b[0m\u001b[1;33m\u001b[0m\u001b[0m\n\u001b[0;32m      8\u001b[0m     \u001b[0meog_ch_names\u001b[0m \u001b[1;33m=\u001b[0m \u001b[0msample_raw_eog\u001b[0m\u001b[1;33m.\u001b[0m\u001b[0mch_names\u001b[0m\u001b[1;33m,\u001b[0m\u001b[1;33m\u001b[0m\u001b[1;33m\u001b[0m\u001b[0m\n",
      "\u001b[1;31mNameError\u001b[0m: name 'sample_raw_corrected' is not defined"
     ]
    }
   ],
   "source": [
    "plot_sig_2(\n",
    "    sig = sample_raw_bandpass.get_data() / 1e3,\n",
    "    fs = 500,\n",
    "    dpi = 150,\n",
    "    unit = \"1e-06V\",\n",
    "    ch_names = sample_raw_corrected.ch_names,\n",
    "    eog_sig = sample_raw_eog.get_data() / 1e3,\n",
    "    eog_ch_names = sample_raw_eog.ch_names,\n",
    "    markers = [.3,2.2,3.3,4.9],\n",
    "    eog_unit=\"1e-06V\",\n",
    "    scale=_scale_after/1e3\n",
    ");"
   ]
  },
  {
   "cell_type": "markdown",
   "metadata": {},
   "source": [
    "## After ICA"
   ]
  },
  {
   "cell_type": "code",
   "execution_count": 14,
   "metadata": {},
   "outputs": [
    {
     "ename": "NameError",
     "evalue": "name 'sample_raw_corrected' is not defined",
     "output_type": "error",
     "traceback": [
      "\u001b[1;31m---------------------------------------------------------------------------\u001b[0m",
      "\u001b[1;31mNameError\u001b[0m                                 Traceback (most recent call last)",
      "\u001b[1;32m<ipython-input-14-59823bdcb5d0>\u001b[0m in \u001b[0;36m<module>\u001b[1;34m\u001b[0m\n\u001b[0;32m      1\u001b[0m plot_sig_2(\n\u001b[1;32m----> 2\u001b[1;33m     \u001b[0msig\u001b[0m \u001b[1;33m=\u001b[0m \u001b[0msample_raw_corrected\u001b[0m\u001b[1;33m.\u001b[0m\u001b[0mget_data\u001b[0m\u001b[1;33m(\u001b[0m\u001b[1;33m)\u001b[0m \u001b[1;33m/\u001b[0m \u001b[1;36m1e3\u001b[0m\u001b[1;33m,\u001b[0m\u001b[1;33m\u001b[0m\u001b[1;33m\u001b[0m\u001b[0m\n\u001b[0m\u001b[0;32m      3\u001b[0m     \u001b[0mfs\u001b[0m \u001b[1;33m=\u001b[0m \u001b[1;36m500\u001b[0m\u001b[1;33m,\u001b[0m\u001b[1;33m\u001b[0m\u001b[1;33m\u001b[0m\u001b[0m\n\u001b[0;32m      4\u001b[0m     \u001b[0mdpi\u001b[0m \u001b[1;33m=\u001b[0m \u001b[1;36m150\u001b[0m\u001b[1;33m,\u001b[0m\u001b[1;33m\u001b[0m\u001b[1;33m\u001b[0m\u001b[0m\n\u001b[0;32m      5\u001b[0m     \u001b[0munit\u001b[0m \u001b[1;33m=\u001b[0m \u001b[1;34m\"1e-06V\"\u001b[0m\u001b[1;33m,\u001b[0m\u001b[1;33m\u001b[0m\u001b[1;33m\u001b[0m\u001b[0m\n",
      "\u001b[1;31mNameError\u001b[0m: name 'sample_raw_corrected' is not defined"
     ]
    }
   ],
   "source": [
    "plot_sig_2(\n",
    "    sig = sample_raw_corrected.get_data() / 1e3,\n",
    "    fs = 500,\n",
    "    dpi = 150,\n",
    "    unit = \"1e-06V\",\n",
    "    ch_names = sample_raw_corrected.ch_names,\n",
    "    eog_sig = sample_raw_eog.get_data() / 1e3,\n",
    "    eog_ch_names = sample_raw_eog.ch_names,\n",
    "    eog_unit=\"1e-06V\",\n",
    "    markers = [.3,2.2,3.3,4.9]\n",
    ");"
   ]
  },
  {
   "cell_type": "code",
   "execution_count": 15,
   "metadata": {},
   "outputs": [],
   "source": [
    "def plot_sig_3(sig, **kwargs):\n",
    "    \"\"\"\n",
    "    \n",
    "    ===\n",
    "    Example:\n",
    "        plot_sig_2(\n",
    "            X,\n",
    "            fs = 500,\n",
    "            dpi = 150,\n",
    "            scale = _scale1,\n",
    "            unit = \"1e-06V\",\n",
    "            ch_names = sample_raw_bandpass.ch_names,\n",
    "            eog_sig = sample_raw_eog.get_data(),\n",
    "            eog_ch_names = sample_raw_eog.ch_names,\n",
    "            markers = [.3,2.2,3.3,4.9]\n",
    "        );    \n",
    "    \"\"\"\n",
    "    \n",
    "    # Shape\n",
    "    n, l = sig.shape\n",
    "    _min, _max = np.min(sig),np.max(sig)\n",
    "    \n",
    "    # Sampling frequency\n",
    "    fs = kwargs.get(\"fs\")\n",
    "    assert fs, \"Missing fs!!!\"\n",
    "    \n",
    "    nsec= l/fs\n",
    "    taxis = np.linspace(0, nsec, l)\n",
    "    \n",
    "    # Scale\n",
    "    if kwargs.get(\"scale\"):\n",
    "        _scale = kwargs.get(\"scale\")\n",
    "    else:\n",
    "        _scale =_max - _min\n",
    "    \n",
    "    # DPI\n",
    "    dpi = kwargs.get(\"dpi\")\n",
    "    if dpi:\n",
    "        fig = plt.figure(dpi=dpi)\n",
    "    else:\n",
    "        fig = plt.figure()\n",
    "    \n",
    "    n_ = n\n",
    "    \n",
    "    # EOG signal\n",
    "    eog_sig = kwargs.get(\"eog_sig\")\n",
    "    \n",
    "    try:\n",
    "        n_eog, _ = eog_sig.shape\n",
    "    except Exception as e:\n",
    "        n_eog = 0\n",
    "        pass\n",
    "    \n",
    "    if n_eog:\n",
    "        eog_ch_names = kwargs.get(\"eog_ch_names\")\n",
    "        assert eog_ch_names, \"Missing EOG ch_names!!!\"\n",
    "        n_ = n + n_eog\n",
    "    \n",
    "    gs = GridSpec(n_,12,figure=fig)\n",
    "\n",
    "    X = np.zeros([n,l])\n",
    "    \n",
    "    for i in range(n):\n",
    "        X[i,:] = sig[i,:] - i * _scale\n",
    "    \n",
    "    _min = np.mean(X[-1,:]) - _scale\n",
    "    _max = np.mean(X[0,:]) + _scale\n",
    "    \n",
    "    \n",
    "    # MARKER\n",
    "    markers = kwargs.get(\"markers\")\n",
    "    \n",
    "    ## Sig\n",
    "    ax1 = fig.add_subplot(gs[0,1:-1])\n",
    "    ax1.set(xlim=(0, nsec))\n",
    "    ax1.axis(\"off\")\n",
    "    \n",
    "    if markers:\n",
    "        for m in markers:\n",
    "            ax1.scatter(m, 0, marker=11, color=\"black\")\n",
    "    \n",
    "    # SIGNAL EEG\n",
    "    \n",
    "    \n",
    "    ## Comp/Chan name\n",
    "    ch_names = kwargs.get(\"ch_names\")\n",
    "    assert ch_names, \"Missing ch_names!!!\"\n",
    "    \n",
    "    ax0 = fig.add_subplot(gs[1:-2,0])\n",
    "    ax0.axis(\"off\")\n",
    "    for i in range(n):\n",
    "        ax0.text(\n",
    "            1, (n-i)/(n+1),\n",
    "            ch_names[i],\n",
    "            verticalalignment=\"center\",\n",
    "            horizontalalignment=\"right\",\n",
    "        )\n",
    "    \n",
    "    \n",
    "    ## Sig\n",
    "    ax1 = fig.add_subplot(gs[1:-2,1:-1])\n",
    "    ax1.set(xlim=(0,nsec),ylim=(_min,_max))\n",
    "    ax1.axis(\"off\")\n",
    "    \n",
    "    for i in range(n):\n",
    "        ax1.plot(taxis, X[i,:], color=\"black\",linewidth=.25)\n",
    "    \n",
    "    ## Scale\n",
    "    \n",
    "    ax2 = fig.add_subplot(gs[1:-2,-1])\n",
    "    ax2.axis(\"off\")\n",
    "    ax2.set(xlim=(-1,0),ylim=(_min,_max))\n",
    "    \n",
    "    ### Temporal scale\n",
    "    ax2.plot([-10/nsec,0],[_min,_min], color=\"black\")\n",
    "    ax2.text(\n",
    "        -5/nsec, _min*1.01,\n",
    "        \"1 sec\",\n",
    "        verticalalignment=\"top\",\n",
    "        horizontalalignment=\"center\"\n",
    "    )\n",
    "    \n",
    "    unit = kwargs.get(\"unit\")\n",
    "    if unit:\n",
    "        ax2.plot([0,0],[_min, _min + _scale], color=\"black\")\n",
    "        ax2.text(\n",
    "            0, _min + _scale/2,\n",
    "            f\" {np.round(_scale * 1e6,2)} {unit}\",\n",
    "            verticalalignment=\"center\"\n",
    "        )\n",
    "        \n",
    "    # EOG SIG\n",
    "    \n",
    "    ## Comp / ch_name\n",
    "    ax0 = fig.add_subplot(gs[-2:,0])\n",
    "    ax0.axis(\"off\")\n",
    "    for i in range(n_eog):\n",
    "        ax0.text(\n",
    "            1, (n_eog-i)/(n_eog+1),\n",
    "            eog_ch_names[i],\n",
    "            verticalalignment=\"center\",\n",
    "            horizontalalignment=\"right\",\n",
    "        )\n",
    "    ## Sig\n",
    "    \n",
    "    \n",
    "    X_eog = np.zeros([n_eog,l])\n",
    "    eog_scale = np.max(eog_sig) - np.min(eog_sig)\n",
    "    \n",
    "    for i in range(n_eog):\n",
    "        X_eog[i,:] = eog_sig[i,:] - i * eog_scale\n",
    "    \n",
    "    eog_min = np.mean(X_eog[-1,:]) - eog_scale\n",
    "    eog_max = np.mean(X_eog[0,:]) + eog_scale\n",
    "    \n",
    "    \n",
    "    ax1 = fig.add_subplot(gs[-2:,1:-1])\n",
    "    ax1.set(xlim=(0, nsec), ylim=(eog_min, eog_max))\n",
    "    ax1.axis(\"off\")\n",
    "    \n",
    "    for i in range(n_eog):\n",
    "        ax1.plot(taxis, X_eog[i,:], color=\"black\",linewidth=.25)\n",
    "    \n",
    "    \n",
    "    ## Scale\n",
    "    ax2 = fig.add_subplot(gs[-2:,-1])\n",
    "    ax2.axis(\"off\")\n",
    "    ax2.set(xlim=(-1,0),ylim=(eog_min,eog_max))\n",
    "    \n",
    "    ax2.plot([-10/nsec,0],[eog_min,eog_min], color=\"black\")\n",
    "    \n",
    "    ax2.text(\n",
    "        -5/nsec, eog_min*1.05,\n",
    "        \"1 sec\",\n",
    "        verticalalignment=\"top\",\n",
    "        horizontalalignment=\"center\"\n",
    "    )\n",
    "    \n",
    "    eog_unit = kwargs.get(\"eog_unit\")\n",
    "    \n",
    "    ax2.plot([0,0],[eog_min, eog_min + eog_scale], color=\"black\")\n",
    "    ax2.text(\n",
    "        0, eog_min + eog_scale/2,\n",
    "        f\" {np.round(eog_scale * 1e6,2)} {eog_unit}\",\n",
    "        verticalalignment=\"center\"\n",
    "    )\n",
    "    \n",
    "    return fig"
   ]
  },
  {
   "cell_type": "code",
   "execution_count": null,
   "metadata": {},
   "outputs": [],
   "source": []
  }
 ],
 "metadata": {
  "kernelspec": {
   "display_name": "Python 3",
   "language": "python",
   "name": "python3"
  },
  "language_info": {
   "codemirror_mode": {
    "name": "ipython",
    "version": 3
   },
   "file_extension": ".py",
   "mimetype": "text/x-python",
   "name": "python",
   "nbconvert_exporter": "python",
   "pygments_lexer": "ipython3",
   "version": "3.7.4"
  }
 },
 "nbformat": 4,
 "nbformat_minor": 4
}
