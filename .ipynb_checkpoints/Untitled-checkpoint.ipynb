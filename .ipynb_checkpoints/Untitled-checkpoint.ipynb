{
 "cells": [
  {
   "cell_type": "code",
   "execution_count": null,
   "metadata": {},
   "outputs": [
    {
     "name": "stderr",
     "output_type": "stream",
     "text": [
      "/home/tu/Desktop/proj/ica_paper/eeg.py:16: RuntimeWarning: Channel names are not unique, found duplicates for: {'EMG Chin'}. Applying running numbers for duplicates.\n",
      "  raw = read_raw_edf(self.path_edf, preload=True, verbose=0)\n"
     ]
    },
    {
     "name": "stdout",
     "output_type": "stream",
     "text": [
      "Subject no: 1489\n",
      "Fitting ICA to data using 10 channels (please be patient, this may take a while)\n",
      "Inferring max_pca_components from picks\n",
      "Using all PCA components: 10\n",
      "Computing Extended Infomax ICA\n"
     ]
    },
    {
     "name": "stderr",
     "output_type": "stream",
     "text": [
      "<ipython-input-1-30bb4bd7e802>:60: DeprecationWarning: method='extended-infomax' is deprecated and will be removed in 0.19. If you want to use Extended Infomax, specify method='infomax' together with fit_params=dict(extended=True).\n",
      "  ica = ICA(method=\"extended-infomax\", random_state=1)\n"
     ]
    },
    {
     "name": "stdout",
     "output_type": "stream",
     "text": [
      "Fitting ICA took 2.7s.\n"
     ]
    },
    {
     "data": {
      "text/plain": [
       "<Figure size 800x392 with 4 Axes>"
      ]
     },
     "metadata": {},
     "output_type": "display_data"
    },
    {
     "data": {
      "text/plain": [
       "<Figure size 750x400 with 10 Axes>"
      ]
     },
     "metadata": {},
     "output_type": "display_data"
    }
   ],
   "source": [
    "import configparser\n",
    "from eeg import EEG\n",
    "from utils import chunks, baseline_calc, butter_bandpass_filter\n",
    "import numpy as np\n",
    "from mne.preprocessing import ICA\n",
    "import mne\n",
    "from matplotlib import pyplot as plt\n",
    "import json\n",
    "% matplotlib inline\n",
    "\n",
    "# https://github.com/mne-tools/mne-python/issues/2404\n",
    "\n",
    "config = configparser.ConfigParser()\n",
    "config.read(\"config.ini\")\n",
    "\n",
    "_WINDOW = int(config[\"CHUNK\"][\"WINDOW\"]) \n",
    "\n",
    "\n",
    "def _get_ica_map(ica, components=None):\n",
    "    \"\"\"Get ICA topomap for components\"\"\"\n",
    "    fast_dot = np.dot\n",
    "    if components is None:\n",
    "        components = list(range(ica.n_components_))\n",
    "    maps = fast_dot(ica.mixing_matrix_[:, components].T,\n",
    "                    ica.pca_components_[:ica.n_components_])\n",
    "    return maps\n",
    "\n",
    "if __name__ == \"__main__\":\n",
    "    \n",
    "    eeg = EEG(path_edf=\"./edf/1489/1489_alice/edf/A0001489.edf\", \\\n",
    "        path_stage=\"./edf/1489/1489_alice/csv/STAGE.csv\")\n",
    "\n",
    "    name = input(\"Subject no: \")\n",
    "\n",
    "   \n",
    "    _components = []\n",
    "\n",
    "    N_SAMPLE = int(config[\"DEFAULT\"][\"N_SAMPLE_PER_SUBJECT\"])\n",
    "    counter = 0 \n",
    "\n",
    "    for task in eeg.tasks:\n",
    "        for idx, chunk in enumerate(chunks(task, _WINDOW)):\n",
    "            _min, _max = np.min(chunk), np.max(chunk)\n",
    "            \n",
    "            # Getting sample data\n",
    "            sample_raw = eeg.raw.copy().crop(_min, _max, include_tmax=False)\n",
    "\n",
    "            # Apply baseline correction\n",
    "            sample_raw_baseline = sample_raw.copy()\n",
    "            sample_raw_baseline.apply_function(baseline_calc)\n",
    "            \n",
    "            # Apply bandpass filter\n",
    "            sample_raw_bandpass = sample_raw_baseline.copy()\n",
    "            sample_raw_bandpass.apply_function(butter_bandpass_filter)\n",
    "            \n",
    "            # Apply ICA\n",
    "            sample_raw_train = sample_raw_bandpass.copy()\n",
    "            # sample_raw_corrected = sample_raw_bandpass.copy()\n",
    "            \n",
    "            # Train\n",
    "            ica = ICA(method=\"extended-infomax\", random_state=1)\n",
    "            ica.fit(sample_raw_train)\n",
    "            \n",
    "            # Plot ICA component\n",
    "            ica.plot_sources(inst=sample_raw_train) \n",
    "            ica.plot_components(inst=sample_raw_train)\n",
    "            \n",
    "        \n",
    "            list_of_eog = input(\"List of components seperated by space: \")\n",
    "            list_of_eog = list(map(int, list_of_eog.split()))\n",
    "            \n",
    "            if list_of_eog:\n",
    "\n",
    "                ica.exclude = list_of_eog\n",
    "                raw_ = eeg.raw.copy()\n",
    "                raw_corrected_ = raw_.copy()\n",
    "\n",
    "                ica.apply(raw_corrected_)\n",
    "\n",
    "                raw_.plot(title=\"RAW\")\n",
    "                raw_corrected_.plot(title=\"RAW_CORRECTED\")\n",
    "\n",
    "                input(\"ENTER TO CONTINUE\")\n",
    "                    \n",
    "                maps = _get_ica_map(ica).T\n",
    "                scalings = np.linalg.norm(maps, axis=0)\n",
    "                maps /= scalings[None, :]\n",
    "                \n",
    "                # maps[:,0] = 0\n",
    "\n",
    "                components = ica.get_sources(inst=sample_raw_train).get_data()\n",
    "                components_name = ica.ch_names\n",
    "\n",
    "                for idx2, comp_name in enumerate(components_name):\n",
    "                    tmp = {\n",
    "                        \"name\" : \"{comp_name}_{idx}\".format(comp_name=comp_name, idx=idx),\n",
    "                        \"component\" : components[idx2, :],\n",
    "                        \"map\" : maps[:, idx2],\n",
    "                        \"label\" : \"EOG\" if idx2 in list_of_eog else \"Non-EOG\"\n",
    "                    }\n",
    "                    \n",
    "                    try:\n",
    "                        _components.append(tmp)\n",
    "                        counter+=1\n",
    "\n",
    "                    except KeyboardInterrupt as e:\n",
    "                        j = {\n",
    "                            \"name\" : name,\n",
    "                            \"data\" : _components\n",
    "                        }\n",
    "\n",
    "                        with open(\"data.json\", \"w\") as f:\n",
    "                            json.dump(j, f)\n",
    "\n",
    "                    if counter > N_SAMPLE:\n",
    "                        break\n",
    "\n",
    "                if counter > N_SAMPLE:\n",
    "                    break\n",
    "\n",
    "            if counter > N_SAMPLE:\n",
    "                break\n",
    "\n",
    "        if counter > N_SAMPLE:\n",
    "            break \n",
    "    \n",
    "    j = {\n",
    "        \"name\" : name,\n",
    "        \"data\" : _components\n",
    "    }\n",
    "\n",
    "    with open(\"data.json\", \"w\") as f:\n",
    "        json.dump(j, f)\n",
    "\n",
    "\n",
    "\n",
    "            # import pdb; pdb.set_trace()\n",
    "\n",
    "\n",
    "            # print(maps[0,:])\n",
    "            # input()\n",
    "\n",
    "            # fig, axes = plt.subplots(nrows=1, ncols=10, figsize=(20, 7))\n",
    "\n",
    "            # info_temp = mne.create_info(eeg.ch_names, 1,\n",
    "            #                 ch_types='eeg', montage=\"standard_1005\")\n",
    "\n",
    "            # evoked = mne.EvokedArray(maps, info_temp, 0, comment='', nave=1,\n",
    "            #              kind='average', verbose=None)\n",
    "\n",
    "            # evoked.plot_topomap(vmin=-0.6e6, vmax=0.6e6, cmap='jet',\n",
    "            #                     size=2, contours=None, time_format='', colorbar=False,\n",
    "            #                     axes=axes, show=False)\n",
    "\n",
    "            # plt.show()\n",
    "            # break"
   ]
  },
  {
   "cell_type": "code",
   "execution_count": null,
   "metadata": {},
   "outputs": [],
   "source": []
  }
 ],
 "metadata": {
  "kernelspec": {
   "display_name": "Python 3",
   "language": "python",
   "name": "python3"
  },
  "language_info": {
   "codemirror_mode": {
    "name": "ipython",
    "version": 3
   },
   "file_extension": ".py",
   "mimetype": "text/x-python",
   "name": "python",
   "nbconvert_exporter": "python",
   "pygments_lexer": "ipython3",
   "version": "3.7.4"
  }
 },
 "nbformat": 4,
 "nbformat_minor": 2
}
